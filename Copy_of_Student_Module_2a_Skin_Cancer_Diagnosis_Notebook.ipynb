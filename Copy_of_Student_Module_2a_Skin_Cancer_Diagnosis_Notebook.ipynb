{
  "nbformat": 4,
  "nbformat_minor": 0,
  "metadata": {
    "accelerator": "GPU",
    "colab": {
      "provenance": [],
      "include_colab_link": true
    },
    "kernelspec": {
      "display_name": "Python 3",
      "name": "python3"
    }
  },
  "cells": [
    {
      "cell_type": "markdown",
      "metadata": {
        "id": "view-in-github",
        "colab_type": "text"
      },
      "source": [
        "<a href=\"https://colab.research.google.com/github/NourMlaiki/AI_SkinCancer/blob/main/Copy_of_Student_Module_2a_Skin_Cancer_Diagnosis_Notebook.ipynb\" target=\"_parent\"><img src=\"https://colab.research.google.com/assets/colab-badge.svg\" alt=\"Open In Colab\"/></a>"
      ]
    },
    {
      "cell_type": "markdown",
      "metadata": {
        "id": "TiM6gYg0nhkY"
      },
      "source": [
        "<font color=\"#de3023\"><h1><b>REMINDER MAKE A COPY OF THIS NOTEBOOK, DO NOT EDIT</b></h1></font>"
      ]
    },
    {
      "cell_type": "markdown",
      "metadata": {
        "id": "8qhF7Oi9c-v6"
      },
      "source": [
        " # Module 2a"
      ]
    },
    {
      "cell_type": "markdown",
      "metadata": {
        "id": "JouKR3pTBF_L"
      },
      "source": [
        "# *Online Dermatologists:* 📱 🌐 Diagnosing Skin Cancer through a Web Application"
      ]
    },
    {
      "cell_type": "markdown",
      "metadata": {
        "id": "nPnF7JnsD6II"
      },
      "source": [
        "In this project, we will be be diagnosing skin lesion images for signs of skin cancer. To perform this task, we'll be working with an array of machine learning methods and models.\n",
        "\n",
        "We're hoping that our model might be useful to people who don't have easy access to medical professionals. For that, it'll need to be both highly accurate and easily accessible! Yesterday's simple models didn't perform well enough for this job.\n",
        "\n",
        "In this notebook we'll be:\n",
        "*   Developing more complex ML models using Convolutional Neural Networks\n",
        "*   Deploying our ML models to a web app"
      ]
    },
    {
      "cell_type": "markdown",
      "metadata": {
        "id": "-ObbA3WmI798"
      },
      "source": [
        "# Set up our Environment"
      ]
    },
    {
      "cell_type": "code",
      "metadata": {
        "colab": {
          "base_uri": "https://localhost:8080/",
          "height": 436
        },
        "id": "ih8pc-WDIxbx",
        "outputId": "bef9a58f-b9b3-4c85-af4b-806ae44b84cf"
      },
      "source": [
        "#@title Run this to download data and prepare our environment! { display-mode: \"form\" }\n",
        "print(\"Installing packages...\")\n",
        "!pip install hypopt tensorflowjs > /dev/null\n",
        "print(\"Downloading files...\")\n",
        "!wget https://www.dropbox.com/s/fedqcdt4o0m2oxp/X.npy &> /dev/null\n",
        "!wget https://www.dropbox.com/s/h7xh92w1w7px30a/X_g.npy &> /dev/null\n",
        "!wget https://www.dropbox.com/s/grn9brfvzx74c8a/y.npy &> /dev/null\n",
        "print(\"Importing stuff...\")\n",
        "import os\n",
        "os.makedirs(\"static/js\", exist_ok=True)\n",
        "!wget -O static/js/skin_cancer_diagnosis_script.js 'https://storage.googleapis.com/inspirit-ai-data-bucket-1/Data/AI%20Scholars/Sessions%206%20-%2010%20(Projects)/Project%20-%20(Healthcare%20B)%20Skin%20Cancer%20Diagnosis/skin_cancer_diagnosis_script.js' &> /dev/null\n",
        "output = 'static/js/skin_cancer_diagnosis_script.js'\n",
        "\n",
        "from google.colab.output import eval_js\n",
        "\n",
        "import time\n",
        "start_time = time.time()\n",
        "\n",
        "import tensorflow as tf\n",
        "from tensorflow.keras.preprocessing.image import ImageDataGenerator\n",
        "from tqdm.notebook import tqdm\n",
        "\n",
        "import keras\n",
        "from keras import backend as K\n",
        "from tensorflow.keras.layers import *\n",
        "from keras.models import Sequential\n",
        "from keras.layers import Dense, Conv2D\n",
        "from keras.layers import Activation, MaxPooling2D, Dropout, Flatten, Reshape\n",
        "from keras.wrappers.scikit_learn import KerasClassifier\n",
        "\n",
        "import matplotlib.pyplot as plt\n",
        "import matplotlib\n",
        "import seaborn as sns\n",
        "import os\n",
        "import random\n",
        "from PIL import Image\n",
        "import gdown\n",
        "\n",
        "import argparse\n",
        "import numpy as np\n",
        "from keras.layers import Conv2D, Input, BatchNormalization, LeakyReLU, ZeroPadding2D, UpSampling2D\n",
        "from keras.layers.merge import add, concatenate\n",
        "from keras.models import Model\n",
        "import struct\n",
        "from google.colab.patches import cv2_imshow\n",
        "from copy import deepcopy\n",
        "import pandas as pd\n",
        "\n",
        "from sklearn.model_selection import train_test_split\n",
        "from sklearn.linear_model import LogisticRegression\n",
        "from sklearn.neighbors import KNeighborsClassifier\n",
        "from sklearn import tree\n",
        "from sklearn.metrics import confusion_matrix, classification_report\n",
        "from sklearn.metrics import precision_recall_curve\n",
        "from sklearn.metrics import roc_auc_score\n",
        "from sklearn.base import BaseEstimator\n",
        "\n",
        "from sklearn.neural_network import MLPClassifier\n",
        "from sklearn.neighbors import KNeighborsClassifier\n",
        "from sklearn.svm import SVC\n",
        "from sklearn.gaussian_process import GaussianProcessClassifier\n",
        "from sklearn.gaussian_process.kernels import RBF\n",
        "from sklearn.tree import DecisionTreeClassifier\n",
        "from sklearn.ensemble import RandomForestClassifier, AdaBoostClassifier\n",
        "from sklearn.naive_bayes import GaussianNB\n",
        "from sklearn.discriminant_analysis import QuadraticDiscriminantAnalysis\n",
        "\n",
        "from sklearn.metrics import make_scorer\n",
        "from sklearn.metrics import accuracy_score\n",
        "from keras.applications.mobilenet import MobileNet\n",
        "\n",
        "\n",
        "\n",
        "\n",
        "from hypopt import GridSearch\n",
        "\n",
        "from sklearn.decomposition import PCA\n",
        "from sklearn.manifold import TSNE\n",
        "\n",
        "from sklearn.cluster import KMeans\n",
        "from sklearn.cluster import AgglomerativeClustering\n",
        "\n",
        "import cv2\n",
        "\n",
        "\n",
        "import tensorflowjs as tfjs\n",
        "\n",
        "from google.colab import files\n",
        "\n",
        "import requests, io, zipfile\n",
        "import os\n",
        "\n",
        "\n",
        "\n",
        "import os.path\n",
        "from os import path\n",
        "\n",
        "\n",
        "\n",
        "\n",
        "print(\"Done!\")"
      ],
      "execution_count": null,
      "outputs": [
        {
          "output_type": "stream",
          "name": "stdout",
          "text": [
            "Installing packages...\n",
            "Downloading files...\n",
            "Importing stuff...\n"
          ]
        },
        {
          "output_type": "error",
          "ename": "ModuleNotFoundError",
          "evalue": "No module named 'keras.wrappers'",
          "traceback": [
            "\u001b[0;31m---------------------------------------------------------------------------\u001b[0m",
            "\u001b[0;31mModuleNotFoundError\u001b[0m                       Traceback (most recent call last)",
            "\u001b[0;32m<ipython-input-1-3f073f693ad2>\u001b[0m in \u001b[0;36m<cell line: 29>\u001b[0;34m()\u001b[0m\n\u001b[1;32m     27\u001b[0m \u001b[0;32mfrom\u001b[0m \u001b[0mkeras\u001b[0m\u001b[0;34m.\u001b[0m\u001b[0mlayers\u001b[0m \u001b[0;32mimport\u001b[0m \u001b[0mDense\u001b[0m\u001b[0;34m,\u001b[0m \u001b[0mConv2D\u001b[0m\u001b[0;34m\u001b[0m\u001b[0;34m\u001b[0m\u001b[0m\n\u001b[1;32m     28\u001b[0m \u001b[0;32mfrom\u001b[0m \u001b[0mkeras\u001b[0m\u001b[0;34m.\u001b[0m\u001b[0mlayers\u001b[0m \u001b[0;32mimport\u001b[0m \u001b[0mActivation\u001b[0m\u001b[0;34m,\u001b[0m \u001b[0mMaxPooling2D\u001b[0m\u001b[0;34m,\u001b[0m \u001b[0mDropout\u001b[0m\u001b[0;34m,\u001b[0m \u001b[0mFlatten\u001b[0m\u001b[0;34m,\u001b[0m \u001b[0mReshape\u001b[0m\u001b[0;34m\u001b[0m\u001b[0;34m\u001b[0m\u001b[0m\n\u001b[0;32m---> 29\u001b[0;31m \u001b[0;32mfrom\u001b[0m \u001b[0mkeras\u001b[0m\u001b[0;34m.\u001b[0m\u001b[0mwrappers\u001b[0m\u001b[0;34m.\u001b[0m\u001b[0mscikit_learn\u001b[0m \u001b[0;32mimport\u001b[0m \u001b[0mKerasClassifier\u001b[0m\u001b[0;34m\u001b[0m\u001b[0;34m\u001b[0m\u001b[0m\n\u001b[0m\u001b[1;32m     30\u001b[0m \u001b[0;34m\u001b[0m\u001b[0m\n\u001b[1;32m     31\u001b[0m \u001b[0;32mimport\u001b[0m \u001b[0mmatplotlib\u001b[0m\u001b[0;34m.\u001b[0m\u001b[0mpyplot\u001b[0m \u001b[0;32mas\u001b[0m \u001b[0mplt\u001b[0m\u001b[0;34m\u001b[0m\u001b[0;34m\u001b[0m\u001b[0m\n",
            "\u001b[0;31mModuleNotFoundError\u001b[0m: No module named 'keras.wrappers'",
            "",
            "\u001b[0;31m---------------------------------------------------------------------------\u001b[0;32m\nNOTE: If your import is failing due to a missing package, you can\nmanually install dependencies using either !pip or !apt.\n\nTo view examples of installing some common dependencies, click the\n\"Open Examples\" button below.\n\u001b[0;31m---------------------------------------------------------------------------\u001b[0m\n"
          ],
          "errorDetails": {
            "actions": [
              {
                "action": "open_url",
                "actionText": "Open Examples",
                "url": "/notebooks/snippets/importing_libraries.ipynb"
              }
            ]
          }
        }
      ]
    },
    {
      "cell_type": "code",
      "metadata": {
        "id": "ITfh4GjlttRH"
      },
      "source": [
        "IMG_WIDTH = 100\n",
        "IMG_HEIGHT = 75"
      ],
      "execution_count": null,
      "outputs": []
    },
    {
      "cell_type": "markdown",
      "metadata": {
        "id": "eMVUe5bs_2uX"
      },
      "source": [
        "Let's load in our data from last time!"
      ]
    },
    {
      "cell_type": "code",
      "metadata": {
        "id": "Kpq4DXFN6cRf"
      },
      "source": [
        "X = np.load(\"X.npy\")\n",
        "X_g = np.load(\"X_g.npy\")\n",
        "y = np.load(\"y.npy\")"
      ],
      "execution_count": null,
      "outputs": []
    },
    {
      "cell_type": "code",
      "metadata": {
        "id": "UC4VupwgyqpN"
      },
      "source": [
        "#@title Run this to Perform Data Augmentation { display-mode: \"form\" }\n",
        "X_train, X_test, y_train, y_test = train_test_split(X, y, test_size=0.4, random_state=101)\n",
        "X_g_train, X_g_test, y_train, y_test = train_test_split(X_g, y, test_size=0.4, random_state=101)\n",
        "\n",
        "X_augmented = []\n",
        "X_g_augmented = []\n",
        "\n",
        "y_augmented = []\n",
        "\n",
        "for i in tqdm(range(len(X_train))):\n",
        "  transform = random.randint(0,1)\n",
        "  if (transform == 0):\n",
        "    # Flip the image across the y-axis\n",
        "    X_augmented.append(cv2.flip(X_train[i],1))\n",
        "    X_g_augmented.append(cv2.flip(X_g_train[i],1))\n",
        "    y_augmented.append(y_train[i])\n",
        "  else:\n",
        "    # Zoom 33% into the image\n",
        "    zoom = 0.33\n",
        "\n",
        "    centerX,centerY=int(IMG_HEIGHT/2),int(IMG_WIDTH/2)\n",
        "    radiusX,radiusY= int((1-zoom)*IMG_HEIGHT*2),int((1-zoom)*IMG_WIDTH*2)\n",
        "\n",
        "    minX,maxX=centerX-radiusX,centerX+radiusX\n",
        "    minY,maxY=centerY-radiusY,centerY+radiusY\n",
        "\n",
        "    cropped = (X_train[i])[minX:maxX, minY:maxY]\n",
        "    new_img = cv2.resize(cropped, (IMG_WIDTH, IMG_HEIGHT))\n",
        "    X_augmented.append(new_img)\n",
        "\n",
        "    cropped = (X_g_train[i])[minX:maxX, minY:maxY]\n",
        "    new_img = cv2.resize(cropped, (IMG_WIDTH, IMG_HEIGHT))\n",
        "    X_g_augmented.append(new_img)\n",
        "\n",
        "    y_augmented.append(y_train[i])\n",
        "\n",
        "X_augmented = np.array(X_augmented)\n",
        "X_g_augmented = np.array(X_g_augmented)\n",
        "\n",
        "y_augmented = np.array(y_augmented)\n",
        "\n",
        "X_train = np.vstack((X_train,X_augmented))\n",
        "X_g_train = np.vstack((X_g_train,X_g_augmented))\n",
        "\n",
        "y_train = np.append(y_train,y_augmented)"
      ],
      "execution_count": null,
      "outputs": []
    },
    {
      "cell_type": "markdown",
      "metadata": {
        "id": "dwVcrhcDDE7h"
      },
      "source": [
        "Let's view the shape of our training variables after data augmentation:"
      ]
    },
    {
      "cell_type": "code",
      "metadata": {
        "id": "A2yCz4Cqc9U5"
      },
      "source": [
        "#Your Code Here\n",
        "print(np.shape(X))\n",
        "print(np.shape(X_g))\n",
        "print(np.shape(y))"
      ],
      "execution_count": null,
      "outputs": []
    },
    {
      "cell_type": "markdown",
      "metadata": {
        "id": "pZThMze80XRW"
      },
      "source": [
        "# Creating Machine Learning Models"
      ]
    },
    {
      "cell_type": "markdown",
      "metadata": {
        "id": "G8yRJmUHkqWw"
      },
      "source": [
        "**Now**, let's explore some alternative classification options."
      ]
    },
    {
      "cell_type": "markdown",
      "metadata": {
        "id": "5WAr9_wa1AXX"
      },
      "source": [
        "Let's take a look at Convolutional Neural Networks. These machine learning models are tailor made to work with images through the use of *Convolutional Layers*.\n",
        "\n",
        "CNNs contain several kinds of layers; some of the most important are the *Convolutional Layers*, *Pooling Layers*, and *Fully Connected Layers*.\n",
        "\n",
        "The Convolutional Layer is used to extract features from the image through the use of a sliding window, known as a kernel.\n"
      ]
    },
    {
      "cell_type": "markdown",
      "metadata": {
        "id": "iE55_4A6OgiP"
      },
      "source": [
        "![alt text](https://stanford.edu/~shervine/teaching/cs-230/illustrations/convolution-layer-a.png?1c517e00cb8d709baf32fc3d39ebae67)"
      ]
    },
    {
      "cell_type": "markdown",
      "metadata": {
        "id": "BJJzjq1VOkCe"
      },
      "source": [
        "\n",
        "The Pooling Layer reduces the dimensions of the image, and extracts the most important features. This layer is very useful in minimizing overfitting, as a lot of the features that are too specific to the training data will be discarded in this step."
      ]
    },
    {
      "cell_type": "markdown",
      "metadata": {
        "id": "JATieE3K1A6X"
      },
      "source": [
        "![alt text](https://miro.medium.com/max/875/1*KQIEqhxzICU7thjaQBfPBQ.png)"
      ]
    },
    {
      "cell_type": "markdown",
      "metadata": {
        "id": "EkZ5aeG0OT9O"
      },
      "source": [
        "Finally, after multiple iterations of Convolutional and Pooling Layers, the image is converted to a classification probability in the fully connected layer. The fully connected layer is architecturally similar to a traditional neural network. The input to this component is our flattened image (after all the transformations from the Convolutional and Pooling layers are applied), and the outputs are the predictions."
      ]
    },
    {
      "cell_type": "markdown",
      "metadata": {
        "id": "U5Mqv1hwOwYu"
      },
      "source": [
        "\n",
        "![alt text](https://sds-platform-private.s3-us-east-2.amazonaws.com/uploads/74_blog_image_1.png)\n"
      ]
    },
    {
      "cell_type": "code",
      "metadata": {
        "id": "Swoyff2uRp82"
      },
      "source": [
        "# Your Response Here\n",
        "\n"
      ],
      "execution_count": null,
      "outputs": []
    },
    {
      "cell_type": "markdown",
      "metadata": {
        "id": "P15J_c6gxnxI"
      },
      "source": [
        "We'll use the the library Keras to create the models for our skin lesion classification. Let's start off by creating our own CNN model (This is the same model we used in the earlier Intro to CNNs notebook). We can work with our color images with the CNNs."
      ]
    },
    {
      "cell_type": "markdown",
      "metadata": {
        "id": "Ysnigm4YO-Ua"
      },
      "source": [
        "Take a look at the CNN's definition below.\n",
        "\n",
        "**Question**: How is the model organized? Could you draw a diagram of its structure?"
      ]
    },
    {
      "cell_type": "code",
      "metadata": {
        "id": "TB0G7k4jO7Tm"
      },
      "source": [
        "# Your Response Here\n",
        "\n"
      ],
      "execution_count": null,
      "outputs": []
    },
    {
      "cell_type": "code",
      "metadata": {
        "id": "jfVye7oWuNMM"
      },
      "source": [
        "def CNNClassifier(epochs=20, batch_size=10, layers=5, dropout=0.5, activation='relu'):\n",
        "  def set_params():\n",
        "    i = 1\n",
        "  def create_model():\n",
        "    model = Sequential()\n",
        "\n",
        "    for i in range(layers):\n",
        "      model.add(Conv2D(64, (3, 3), padding='same'))\n",
        "      model.add(Activation(activation))\n",
        "\n",
        "    model.add(Conv2D(64, (3, 3)))\n",
        "    model.add(Activation(activation))\n",
        "    model.add(MaxPooling2D(pool_size=(2, 2)))\n",
        "    model.add(Dropout(dropout / 2.0))\n",
        "\n",
        "    model.add(Conv2D(128, (3, 3), padding='same'))\n",
        "    model.add(Activation(activation))\n",
        "    model.add(Conv2D(128, (3, 3)))\n",
        "    model.add(Activation(activation))\n",
        "    model.add(MaxPooling2D(pool_size=(2, 2)))\n",
        "    model.add(Dropout(dropout / 2.0))\n",
        "\n",
        "    model.add(Flatten())\n",
        "    model.add(Dense(512))\n",
        "    model.add(Activation(activation))\n",
        "    model.add(Dropout(dropout))\n",
        "    model.add(Dense(7))\n",
        "    model.add(Activation('softmax'))\n",
        "\n",
        "    # initiate RMSprop optimizer\n",
        "    opt = keras.optimizers.RMSprop(lr=0.0001, decay=1e-6)\n",
        "\n",
        "    # Let's train the model using RMSprop\n",
        "    model.compile(loss='categorical_crossentropy',\n",
        "                  optimizer=opt,\n",
        "                  metrics=[tf.keras.metrics.AUC()])\n",
        "    return model\n",
        "  return KerasClassifier(build_fn=create_model, epochs=epochs, batch_size=batch_size, verbose=1)"
      ],
      "execution_count": null,
      "outputs": []
    },
    {
      "cell_type": "markdown",
      "metadata": {
        "id": "VDsvw0vZPYDm"
      },
      "source": [
        "Some terms you might notice include Epochs, Batch Size, Learning Rate, Dropout, and Activation functions:\n",
        "\n",
        "\n",
        "*   Dropout is a method of preventing overfitting by randomly ignoring certain neurons from the model during training.\n",
        "*   Activation functions determine how a neuron calculates its output after adding up its weighted inputs.\n",
        "*   Epochs are just the number of iterations we would like to train our model for.\n",
        "*   Batch Size is the number of samples we would like to send through the model at a time.\n",
        "*   The Learning Rate is a hyperparameter that affects how quickly the model changes to adapt to the training data.\n",
        "\n",
        "Phew, that was a lot of terms!\n",
        "\n",
        "**Question:** With your knowledge so far, what values would you set these parameters to be? What might your model's architecture look like?"
      ]
    },
    {
      "cell_type": "code",
      "metadata": {
        "id": "M33InjU0cybr"
      },
      "source": [
        "# Your Response Here\n",
        "\n"
      ],
      "execution_count": null,
      "outputs": []
    },
    {
      "cell_type": "markdown",
      "metadata": {
        "id": "_1kKW8jm1m24"
      },
      "source": [
        "We also need to transform our y labels into one hot encoded labels for training."
      ]
    },
    {
      "cell_type": "code",
      "metadata": {
        "id": "WPCxQjeS1Qjk"
      },
      "source": [
        "y_train_onehot = np.zeros((y_train.size, y_train.max().astype(int)+1))\n",
        "y_train_onehot[np.arange(y_train.size),y_train.astype(int)] = 1\n",
        "\n",
        "y_test_onehot = np.zeros((y_test.size, y_test.max().astype(int)+1))\n",
        "y_test_onehot[np.arange(y_test.size),y_test.astype(int)] = 1"
      ],
      "execution_count": null,
      "outputs": []
    },
    {
      "cell_type": "markdown",
      "metadata": {
        "id": "tWHMBqfzkBVM"
      },
      "source": [
        "Let's initialize and train our CNN. This may take a while to execute as well."
      ]
    },
    {
      "cell_type": "code",
      "metadata": {
        "colab": {
          "base_uri": "https://localhost:8080/"
        },
        "id": "z_blzuQQyiJv",
        "outputId": "79303c90-cb14-4572-d92f-898d283fe725"
      },
      "source": [
        "cnn = CNNClassifier()\n",
        "\n",
        "cnn.fit(X_train.astype(np.float32), y_train_onehot.astype(np.float32),\n",
        "        validation_data=(X_test.astype(np.float32),y_test_onehot.astype(np.float32))\n",
        "        ,verbose=1)"
      ],
      "execution_count": null,
      "outputs": [
        {
          "output_type": "stream",
          "text": [
            "/usr/local/lib/python3.7/dist-packages/tensorflow/python/keras/optimizer_v2/optimizer_v2.py:375: UserWarning: The `lr` argument is deprecated, use `learning_rate` instead.\n",
            "  \"The `lr` argument is deprecated, use `learning_rate` instead.\")\n"
          ],
          "name": "stderr"
        },
        {
          "output_type": "stream",
          "text": [
            "Epoch 1/20\n",
            "116/116 [==============================] - 60s 59ms/step - loss: 8.7869 - auc: 0.5655 - val_loss: 1.7297 - val_auc: 0.6270\n",
            "Epoch 2/20\n",
            "116/116 [==============================] - 5s 42ms/step - loss: 1.6522 - auc: 0.6504 - val_loss: 1.7501 - val_auc: 0.6910\n",
            "Epoch 3/20\n",
            "116/116 [==============================] - 5s 42ms/step - loss: 1.4820 - auc: 0.7002 - val_loss: 1.4542 - val_auc: 0.7336\n",
            "Epoch 4/20\n",
            "116/116 [==============================] - 5s 42ms/step - loss: 1.3829 - auc: 0.7430 - val_loss: 1.4122 - val_auc: 0.7637\n",
            "Epoch 5/20\n",
            "116/116 [==============================] - 5s 42ms/step - loss: 1.2402 - auc: 0.7711 - val_loss: 1.4528 - val_auc: 0.7868\n",
            "Epoch 6/20\n",
            "116/116 [==============================] - 5s 43ms/step - loss: 1.1928 - auc: 0.7918 - val_loss: 1.3994 - val_auc: 0.8052\n",
            "Epoch 7/20\n",
            "116/116 [==============================] - 5s 43ms/step - loss: 1.0754 - auc: 0.8095 - val_loss: 1.3369 - val_auc: 0.8191\n",
            "Epoch 8/20\n",
            "116/116 [==============================] - 5s 43ms/step - loss: 0.9462 - auc: 0.8230 - val_loss: 1.3018 - val_auc: 0.8321\n",
            "Epoch 9/20\n",
            "116/116 [==============================] - 5s 43ms/step - loss: 0.8938 - auc: 0.8354 - val_loss: 1.3195 - val_auc: 0.8432\n",
            "Epoch 10/20\n",
            "116/116 [==============================] - 5s 43ms/step - loss: 0.8177 - auc: 0.8461 - val_loss: 1.3636 - val_auc: 0.8534\n",
            "Epoch 11/20\n",
            "116/116 [==============================] - 5s 43ms/step - loss: 0.6982 - auc: 0.8560 - val_loss: 1.4268 - val_auc: 0.8624\n",
            "Epoch 12/20\n",
            "116/116 [==============================] - 5s 43ms/step - loss: 0.7135 - auc: 0.8644 - val_loss: 1.4117 - val_auc: 0.8700\n",
            "Epoch 13/20\n",
            "116/116 [==============================] - 5s 44ms/step - loss: 0.6218 - auc: 0.8719 - val_loss: 1.3378 - val_auc: 0.8773\n",
            "Epoch 14/20\n",
            "116/116 [==============================] - 5s 44ms/step - loss: 0.5592 - auc: 0.8791 - val_loss: 1.6178 - val_auc: 0.8839\n",
            "Epoch 15/20\n",
            "116/116 [==============================] - 5s 44ms/step - loss: 0.5404 - auc: 0.8851 - val_loss: 1.5623 - val_auc: 0.8896\n",
            "Epoch 16/20\n",
            "116/116 [==============================] - 5s 44ms/step - loss: 0.4987 - auc: 0.8909 - val_loss: 1.6195 - val_auc: 0.8949\n",
            "Epoch 17/20\n",
            "116/116 [==============================] - 5s 44ms/step - loss: 0.4136 - auc: 0.8960 - val_loss: 1.9618 - val_auc: 0.8996\n",
            "Epoch 18/20\n",
            "116/116 [==============================] - 5s 44ms/step - loss: 0.3704 - auc: 0.9003 - val_loss: 1.9383 - val_auc: 0.9036\n",
            "Epoch 19/20\n",
            "116/116 [==============================] - 5s 44ms/step - loss: 0.3287 - auc: 0.9045 - val_loss: 2.8079 - val_auc: 0.9072\n",
            "Epoch 20/20\n",
            "116/116 [==============================] - 5s 44ms/step - loss: 0.2882 - auc: 0.9075 - val_loss: 2.1523 - val_auc: 0.9105\n"
          ],
          "name": "stdout"
        },
        {
          "output_type": "execute_result",
          "data": {
            "text/plain": [
              "<keras.callbacks.History at 0x7faf103365d0>"
            ]
          },
          "metadata": {
            "tags": []
          },
          "execution_count": 11
        }
      ]
    },
    {
      "cell_type": "markdown",
      "metadata": {
        "id": "NniM-5heGlsh"
      },
      "source": [
        "Let's save and download our trained model, so that we can use it in a web app later on."
      ]
    },
    {
      "cell_type": "code",
      "metadata": {
        "id": "WNiX3iRXTLoz"
      },
      "source": [
        "tfjs.converters.save_keras_model(cnn.model, 'cnn_model')"
      ],
      "execution_count": null,
      "outputs": []
    },
    {
      "cell_type": "markdown",
      "metadata": {
        "id": "f6p-1f4H-WyO"
      },
      "source": [
        "**Let's evaluate our model's performance!** Let's start by defining our `model_stats()` and `plot_cm()` functions."
      ]
    },
    {
      "cell_type": "code",
      "metadata": {
        "id": "tdgFEDo82dYQ"
      },
      "source": [
        "#@title Click here to define `model_stats()`! { display-mode: \"form\" }\n",
        "def model_stats(name, y_test, y_pred, y_pred_proba):\n",
        "  cm = confusion_matrix(y_test, y_pred)\n",
        "\n",
        "  print(name)\n",
        "\n",
        "  accuracy = accuracy_score(y_test,y_pred)\n",
        "  print (\"The accuracy of the model is \" + str(round(accuracy,5)))\n",
        "\n",
        "  y_test_onehot = np.zeros((y_test.size, y_test.max().astype(int)+1))\n",
        "  y_test_onehot[np.arange(y_test.size),y_test.astype(int)] = 1\n",
        "\n",
        "  roc_score = roc_auc_score(y_test_onehot, y_pred_proba)\n",
        "\n",
        "  print (\"The ROC AUC Score of the model is \" + str(round(roc_score,5)))\n",
        "\n",
        "  return cm"
      ],
      "execution_count": null,
      "outputs": []
    },
    {
      "cell_type": "markdown",
      "metadata": {
        "id": "OvsanDVh3tJ_"
      },
      "source": [
        "How can we use this function to evaluate our model? Code your answer below!"
      ]
    },
    {
      "cell_type": "code",
      "metadata": {
        "colab": {
          "base_uri": "https://localhost:8080/"
        },
        "id": "S1LVV03hvWI9",
        "outputId": "64c3fa4d-7248-4df5-f3c0-56f08db841b4"
      },
      "source": [
        "# Your code here!\n",
        "\n",
        "y_pred = cnn.predict(X_test)\n",
        "y_pred_proba = cnn.predict_proba(X_test)\n",
        "model = model_stats(\"CNN\", y_test, y_pred, y_pred_proba)"
      ],
      "execution_count": null,
      "outputs": [
        {
          "output_type": "stream",
          "text": [
            "/usr/local/lib/python3.7/dist-packages/keras/engine/sequential.py:450: UserWarning: `model.predict_classes()` is deprecated and will be removed after 2021-01-01. Please use instead:* `np.argmax(model.predict(x), axis=-1)`,   if your model does multi-class classification   (e.g. if it uses a `softmax` last-layer activation).* `(model.predict(x) > 0.5).astype(\"int32\")`,   if your model does binary classification   (e.g. if it uses a `sigmoid` last-layer activation).\n",
            "  warnings.warn('`model.predict_classes()` is deprecated and '\n"
          ],
          "name": "stderr"
        },
        {
          "output_type": "stream",
          "text": [
            "39/39 [==============================] - 1s 11ms/step\n",
            "39/39 [==============================] - 0s 9ms/step\n",
            "CNN\n",
            "The accuracy of the model is 0.54005\n",
            "The ROC AUC Score of the model is 0.83398\n"
          ],
          "name": "stdout"
        }
      ]
    },
    {
      "cell_type": "code",
      "metadata": {
        "id": "EHweJLDq2hJO"
      },
      "source": [
        "#@title Let's also redefine the `plot_cm()` function from our first notebook. { display-mode: \"form\" }\n",
        "def plot_cm(name, cm):\n",
        "  classes = ['akiec', 'bcc', 'bkl', 'df', 'mel', 'nv', 'vasc']\n",
        "\n",
        "  df_cm = pd.DataFrame(cm, index = [i for i in classes], columns = [i for i in classes])\n",
        "  df_cm = df_cm.round(5)\n",
        "\n",
        "  plt.figure(figsize = (12,8))\n",
        "  sns.heatmap(df_cm, annot=True, fmt='g')\n",
        "  plt.title(name + \" Model Confusion Matrix\")\n",
        "  plt.xlabel(\"Predicted Label\")\n",
        "  plt.ylabel(\"True Label\")\n",
        "  plt.show()"
      ],
      "execution_count": null,
      "outputs": []
    },
    {
      "cell_type": "markdown",
      "metadata": {
        "id": "es3RakSP49Tj"
      },
      "source": [
        "Let's use the function to plot a confusion matrix of our model!"
      ]
    },
    {
      "cell_type": "code",
      "metadata": {
        "colab": {
          "base_uri": "https://localhost:8080/",
          "height": 513
        },
        "id": "vN6xRVnLvY9n",
        "outputId": "139162f4-6b50-4f1d-d612-3946fc2a2c38"
      },
      "source": [
        "# Your code here!\n",
        "plot_cm(\"CNN\", model)\n"
      ],
      "execution_count": null,
      "outputs": [
        {
          "output_type": "display_data",
          "data": {
            "image/png": "[encoded data removed]",
            "text/plain": [
              "<Figure size 864x576 with 2 Axes>"
            ]
          },
          "metadata": {
            "tags": [],
            "needs_background": "light"
          }
        }
      ]
    },
    {
      "cell_type": "markdown",
      "metadata": {
        "id": "2j89i4MY0RSm"
      },
      "source": [
        "It looks like our custom CNN's performance is better than the Logistic Regression, KNN, and Decision Tree models. More training epochs or a bigger dataset would probably help with the performance."
      ]
    },
    {
      "cell_type": "markdown",
      "metadata": {
        "id": "bPtcDPJjF9KF"
      },
      "source": [
        "Try building your own CNN! Let's see who can get the best performance in your group!"
      ]
    },
    {
      "cell_type": "markdown",
      "metadata": {
        "id": "CUX0Etpsrnik"
      },
      "source": [
        "### First, define your model here!"
      ]
    },
    {
      "cell_type": "markdown",
      "metadata": {
        "id": "_PPhn_GNrvgq"
      },
      "source": [
        "### Then, run the code below to train your model."
      ]
    },
    {
      "cell_type": "markdown",
      "metadata": {
        "id": "2easqS-JviIS"
      },
      "source": [
        "### Next, let's evaluate your model's performance!"
      ]
    },
    {
      "cell_type": "markdown",
      "metadata": {
        "id": "BVnNteSEvp3x"
      },
      "source": [
        "### Finally, we can plot our confusion matrix below."
      ]
    },
    {
      "cell_type": "markdown",
      "metadata": {
        "id": "JK-jmPIbELKO"
      },
      "source": [
        "Let's try using a grid search with our CNN. A note to instructors, this section may take a long time to execute so it's better if students come back to this portion on their own time."
      ]
    },
    {
      "cell_type": "markdown",
      "metadata": {
        "id": "vSbd6nVW8qnK"
      },
      "source": [
        "In the variable `param_grid` we can specify which parameters in our CNN we want to modify."
      ]
    },
    {
      "cell_type": "markdown",
      "metadata": {
        "id": "gUZ5HOnoFdur"
      },
      "source": [
        "With this parameter grid we would be training 162 different models! This is because the total number of hyperparameter combinations is calculated as `3 * 3 * 3 * 3 * 2`. For testing out our grid search, let's redefine our parameter grid to just have four possible combinations.\n",
        "\n"
      ]
    },
    {
      "cell_type": "markdown",
      "metadata": {
        "id": "L6O6O1kOzw45"
      },
      "source": [
        "Let's create a validation slice in our dataset."
      ]
    },
    {
      "cell_type": "markdown",
      "metadata": {
        "id": "YhvYxtNbFASa"
      },
      "source": [
        "Here we've created a class for our Grid Search Classifier that can be used by the hypopt library for generating various models with different hyperparameters."
      ]
    },
    {
      "cell_type": "markdown",
      "metadata": {
        "id": "KMGPIzKqkOQO"
      },
      "source": [
        "Now let's implement our grid search to identify our optimal model parameters.\n",
        "\n",
        "**Note:** This may take very long to run (around 11 minutes), so it might be a good idea to come back to this later."
      ]
    },
    {
      "cell_type": "markdown",
      "metadata": {
        "id": "sov5qvd49gZ1"
      },
      "source": [
        "Let's evaluate our model with our testing dataset."
      ]
    },
    {
      "cell_type": "markdown",
      "metadata": {
        "id": "69xnmWMM-IVp"
      },
      "source": [
        "Let's also plot the confusion matrix."
      ]
    },
    {
      "cell_type": "markdown",
      "metadata": {
        "id": "VxzSJIvvhC_I"
      },
      "source": [
        "#Transfer Learning\n",
        "\n",
        "Now, let's try implementing *transfer learning.* This a form of machine learning where we take an existing pre-trained network and modify the weights for the top level neurons by training on our dataset. Here, we'll use the MobileNet model as a basis for our model."
      ]
    },
    {
      "cell_type": "code",
      "metadata": {
        "id": "m_JkoWrRwJms"
      },
      "source": [
        "def transfer_learning_model():\n",
        "  mobilenet_model = MobileNet(input_shape=(IMG_HEIGHT,IMG_WIDTH,3), include_top=False, pooling=\"max\")\n",
        "\n",
        "  transfer_model = Sequential()\n",
        "  transfer_model.add(mobilenet_model)\n",
        "  transfer_model.add(Dropout(0.1))\n",
        "  transfer_model.add(BatchNormalization())\n",
        "  transfer_model.add(Dense(256, activation=\"relu\"))\n",
        "  transfer_model.add(Dropout(0.1))\n",
        "  transfer_model.add(BatchNormalization())\n",
        "  transfer_model.add(Dense(7, activation=\"softmax\"))\n",
        "\n",
        "  # initiate RMSprop optimizer\n",
        "  opt = keras.optimizers.RMSprop(lr=0.0001, decay=1e-6)\n",
        "\n",
        "  # Let's train the model using RMSprop\n",
        "  transfer_model.compile(loss='categorical_crossentropy',\n",
        "                optimizer=opt,\n",
        "                metrics=[tf.keras.metrics.AUC()])\n",
        "\n",
        "  return transfer_model"
      ],
      "execution_count": null,
      "outputs": []
    },
    {
      "cell_type": "markdown",
      "metadata": {
        "id": "p31AQxYW_rhq"
      },
      "source": [
        "We no longer need the validation dataset as we aren't tweaking any hyperparameters anymore, so we can use our original, bigger `X_test` dataset that includes the validation data."
      ]
    },
    {
      "cell_type": "markdown",
      "metadata": {
        "id": "yInf5HpxGlvR"
      },
      "source": [
        "Let's confirm that our training and testing variables are the right shapes. Once again, we'll use the one-hot encoded variables for the output: `y_test_roc` and `y_train_roc`."
      ]
    },
    {
      "cell_type": "markdown",
      "metadata": {
        "id": "y000oRyf-yRy"
      },
      "source": [
        "Let's define our `transfer_model` and train it below!"
      ]
    },
    {
      "cell_type": "code",
      "metadata": {
        "id": "T0NmNz5L_Rku",
        "colab": {
          "base_uri": "https://localhost:8080/"
        },
        "outputId": "286ce63b-a364-421b-e76d-623ac3de9ea5"
      },
      "source": [
        "transfer_model = KerasClassifier(build_fn=transfer_learning_model, verbose=1, epochs=20)\n",
        "# Your Code Here\n",
        "transfer_model.fit(X_train.astype(np.float32), y_train_onehot.astype(np.float32),\n",
        "        validation_data=(X_test.astype(np.float32),y_test_onehot.astype(np.float32))\n",
        "        ,verbose=1)"
      ],
      "execution_count": null,
      "outputs": [
        {
          "output_type": "stream",
          "text": [
            "WARNING:tensorflow:`input_shape` is undefined or non-square, or `rows` is not in [128, 160, 192, 224]. Weights for input shape (224, 224) will be loaded as the default.\n",
            "Downloading data from https://storage.googleapis.com/tensorflow/keras-applications/mobilenet/mobilenet_1_0_224_tf_no_top.h5\n",
            "17227776/17225924 [==============================] - 0s 0us/step\n",
            "17235968/17225924 [==============================] - 0s 0us/step\n"
          ],
          "name": "stdout"
        },
        {
          "output_type": "stream",
          "text": [
            "/usr/local/lib/python3.7/dist-packages/tensorflow/python/keras/optimizer_v2/optimizer_v2.py:375: UserWarning: The `lr` argument is deprecated, use `learning_rate` instead.\n",
            "  \"The `lr` argument is deprecated, use `learning_rate` instead.\")\n"
          ],
          "name": "stderr"
        },
        {
          "output_type": "stream",
          "text": [
            "Epoch 1/20\n",
            "37/37 [==============================] - 16s 115ms/step - loss: 2.1084 - auc_1: 0.6113 - val_loss: 2.3534 - val_auc_1: 0.7065\n",
            "Epoch 2/20\n",
            "37/37 [==============================] - 1s 40ms/step - loss: 1.0409 - auc_1: 0.7330 - val_loss: 1.9037 - val_auc_1: 0.7976\n",
            "Epoch 3/20\n",
            "37/37 [==============================] - 1s 39ms/step - loss: 0.5876 - auc_1: 0.8140 - val_loss: 1.7135 - val_auc_1: 0.8514\n",
            "Epoch 4/20\n",
            "37/37 [==============================] - 1s 39ms/step - loss: 0.4233 - auc_1: 0.8606 - val_loss: 1.4372 - val_auc_1: 0.8843\n",
            "Epoch 5/20\n",
            "37/37 [==============================] - 1s 40ms/step - loss: 0.2586 - auc_1: 0.8912 - val_loss: 1.3489 - val_auc_1: 0.9072\n",
            "Epoch 6/20\n",
            "37/37 [==============================] - 1s 39ms/step - loss: 0.1928 - auc_1: 0.9118 - val_loss: 1.2465 - val_auc_1: 0.9231\n",
            "Epoch 7/20\n",
            "37/37 [==============================] - 1s 39ms/step - loss: 0.1389 - auc_1: 0.9264 - val_loss: 1.2502 - val_auc_1: 0.9350\n",
            "Epoch 8/20\n",
            "37/37 [==============================] - 1s 39ms/step - loss: 0.0861 - auc_1: 0.9374 - val_loss: 1.2118 - val_auc_1: 0.9437\n",
            "Epoch 9/20\n",
            "37/37 [==============================] - 1s 39ms/step - loss: 0.0651 - auc_1: 0.9455 - val_loss: 1.1850 - val_auc_1: 0.9503\n",
            "Epoch 10/20\n",
            "37/37 [==============================] - 1s 39ms/step - loss: 0.0537 - auc_1: 0.9516 - val_loss: 1.2354 - val_auc_1: 0.9553\n",
            "Epoch 11/20\n",
            "37/37 [==============================] - 1s 39ms/step - loss: 0.0379 - auc_1: 0.9563 - val_loss: 1.1381 - val_auc_1: 0.9594\n",
            "Epoch 12/20\n",
            "37/37 [==============================] - 1s 40ms/step - loss: 0.0387 - auc_1: 0.9603 - val_loss: 1.1682 - val_auc_1: 0.9627\n",
            "Epoch 13/20\n",
            "37/37 [==============================] - 2s 41ms/step - loss: 0.0376 - auc_1: 0.9634 - val_loss: 1.1235 - val_auc_1: 0.9655\n",
            "Epoch 14/20\n",
            "37/37 [==============================] - 2s 41ms/step - loss: 0.0276 - auc_1: 0.9660 - val_loss: 1.1686 - val_auc_1: 0.9677\n",
            "Epoch 15/20\n",
            "37/37 [==============================] - 2s 42ms/step - loss: 0.0374 - auc_1: 0.9681 - val_loss: 1.2447 - val_auc_1: 0.9695\n",
            "Epoch 16/20\n",
            "37/37 [==============================] - 1s 40ms/step - loss: 0.0174 - auc_1: 0.9698 - val_loss: 1.2461 - val_auc_1: 0.9710\n",
            "Epoch 17/20\n",
            "37/37 [==============================] - 1s 40ms/step - loss: 0.0176 - auc_1: 0.9713 - val_loss: 1.1602 - val_auc_1: 0.9724\n",
            "Epoch 18/20\n",
            "37/37 [==============================] - 1s 39ms/step - loss: 0.0174 - auc_1: 0.9726 - val_loss: 1.2229 - val_auc_1: 0.9736\n",
            "Epoch 19/20\n",
            "37/37 [==============================] - 1s 39ms/step - loss: 0.0130 - auc_1: 0.9737 - val_loss: 1.1815 - val_auc_1: 0.9746\n",
            "Epoch 20/20\n",
            "37/37 [==============================] - 1s 40ms/step - loss: 0.0160 - auc_1: 0.9748 - val_loss: 1.1587 - val_auc_1: 0.9756\n"
          ],
          "name": "stdout"
        },
        {
          "output_type": "execute_result",
          "data": {
            "text/plain": [
              "<keras.callbacks.History at 0x7fae8c2230d0>"
            ]
          },
          "metadata": {
            "tags": []
          },
          "execution_count": 18
        }
      ]
    },
    {
      "cell_type": "markdown",
      "metadata": {
        "id": "rAQXleqU_DEy"
      },
      "source": [
        "Let's also observe its performance:"
      ]
    },
    {
      "cell_type": "code",
      "metadata": {
        "id": "Qmemnv5RDf4_",
        "colab": {
          "base_uri": "https://localhost:8080/"
        },
        "outputId": "f72c3267-6045-4c2b-f86b-01450fb273b3"
      },
      "source": [
        "# Your Code Here\n",
        "y_pred = transfer_model.predict(X_test)\n",
        "y_pred_proba = transfer_model.predict_proba(X_test)\n",
        "TM = model_stats(\"TM\", y_test, y_pred, y_pred_proba)\n"
      ],
      "execution_count": null,
      "outputs": [
        {
          "output_type": "stream",
          "text": [
            "/usr/local/lib/python3.7/dist-packages/keras/engine/sequential.py:450: UserWarning: `model.predict_classes()` is deprecated and will be removed after 2021-01-01. Please use instead:* `np.argmax(model.predict(x), axis=-1)`,   if your model does multi-class classification   (e.g. if it uses a `softmax` last-layer activation).* `(model.predict(x) > 0.5).astype(\"int32\")`,   if your model does binary classification   (e.g. if it uses a `sigmoid` last-layer activation).\n",
            "  warnings.warn('`model.predict_classes()` is deprecated and '\n"
          ],
          "name": "stderr"
        },
        {
          "output_type": "stream",
          "text": [
            "13/13 [==============================] - 2s 10ms/step\n",
            "13/13 [==============================] - 0s 8ms/step\n",
            "TM\n",
            "The accuracy of the model is 0.677\n",
            "The ROC AUC Score of the model is 0.92656\n"
          ],
          "name": "stdout"
        }
      ]
    },
    {
      "cell_type": "markdown",
      "metadata": {
        "id": "fcjLUgpa_E-e"
      },
      "source": [
        "Let's take a look at the confusion matrix."
      ]
    },
    {
      "cell_type": "code",
      "metadata": {
        "id": "-n_p4h60ADL1",
        "colab": {
          "base_uri": "https://localhost:8080/",
          "height": 513
        },
        "outputId": "cb385089-6985-4d1e-f997-67bcc6928e90"
      },
      "source": [
        "# Your Code Here\n",
        "plot_cm(\"TM\", TM)"
      ],
      "execution_count": null,
      "outputs": [
        {
          "output_type": "display_data",
          "data": {
            "image/png": "[encoded data removed]",
            "text/plain": [
              "<Figure size 864x576 with 2 Axes>"
            ]
          },
          "metadata": {
            "tags": [],
            "needs_background": "light"
          }
        }
      ]
    },
    {
      "cell_type": "markdown",
      "metadata": {
        "id": "l5fUPqfuAhoE"
      },
      "source": [
        "Great, looks like this model performed the best! **Question:** Why would that be?"
      ]
    },
    {
      "cell_type": "code",
      "metadata": {
        "id": "XjPeKGhNAnj6"
      },
      "source": [
        "# Your Response Here\n",
        "\n",
        "\n"
      ],
      "execution_count": null,
      "outputs": []
    },
    {
      "cell_type": "markdown",
      "metadata": {
        "id": "AYNCn41kApnl"
      },
      "source": [
        "Now that we've created our model, let's save it to a file we can load up later."
      ]
    },
    {
      "cell_type": "code",
      "metadata": {
        "id": "dtGN1E9tN2A0"
      },
      "source": [
        "tfjs.converters.save_keras_model(transfer_model.model, 'transfer_model')"
      ],
      "execution_count": null,
      "outputs": []
    },
    {
      "cell_type": "markdown",
      "metadata": {
        "id": "v6v4v5r8Dw0j"
      },
      "source": [
        " Now, the model should be saved to your computer through your browser. Unfortunately, tensorflowjs doesn't support this version of MobileNet, so we'll have to use our first CNN model for the website deployment."
      ]
    },
    {
      "cell_type": "markdown",
      "metadata": {
        "id": "IIwaTfNvDXo0"
      },
      "source": [
        "Great work! We've just developed various ML models to perform classification on our skin lesion dataset! Now, our next step is to package this model into a mobile application. Run the code cell below."
      ]
    },
    {
      "cell_type": "code",
      "metadata": {
        "id": "CX6OKDjzyvVP",
        "colab": {
          "base_uri": "https://localhost:8080/"
        },
        "outputId": "29d07004-e2df-4c89-81d2-e1b683189013"
      },
      "source": [
        "!zip -r ./cnn_model.zip ./cnn_model/"
      ],
      "execution_count": null,
      "outputs": [
        {
          "output_type": "stream",
          "text": [
            "  adding: cnn_model/ (stored 0%)\n",
            "  adding: cnn_model/group1-shard4of25.bin (deflated 7%)\n",
            "  adding: cnn_model/group1-shard2of25.bin (deflated 7%)\n",
            "  adding: cnn_model/group1-shard19of25.bin (deflated 7%)\n",
            "  adding: cnn_model/group1-shard1of25.bin (deflated 8%)\n",
            "  adding: cnn_model/group1-shard20of25.bin (deflated 7%)\n",
            "  adding: cnn_model/group1-shard16of25.bin (deflated 7%)\n",
            "  adding: cnn_model/group1-shard8of25.bin (deflated 7%)\n",
            "  adding: cnn_model/group1-shard18of25.bin (deflated 7%)\n",
            "  adding: cnn_model/group1-shard12of25.bin (deflated 7%)\n",
            "  adding: cnn_model/group1-shard23of25.bin (deflated 7%)\n",
            "  adding: cnn_model/group1-shard13of25.bin (deflated 7%)\n",
            "  adding: cnn_model/group1-shard22of25.bin (deflated 7%)\n",
            "  adding: cnn_model/group1-shard9of25.bin (deflated 7%)\n",
            "  adding: cnn_model/group1-shard14of25.bin (deflated 7%)\n",
            "  adding: cnn_model/group1-shard24of25.bin (deflated 7%)\n",
            "  adding: cnn_model/group1-shard15of25.bin (deflated 7%)\n",
            "  adding: cnn_model/group1-shard3of25.bin (deflated 7%)\n",
            "  adding: cnn_model/group1-shard11of25.bin (deflated 7%)\n",
            "  adding: cnn_model/group1-shard6of25.bin (deflated 7%)\n",
            "  adding: cnn_model/model.json (deflated 85%)\n",
            "  adding: cnn_model/group1-shard17of25.bin (deflated 7%)\n",
            "  adding: cnn_model/group1-shard5of25.bin (deflated 7%)\n",
            "  adding: cnn_model/group1-shard25of25.bin (deflated 7%)\n",
            "  adding: cnn_model/group1-shard10of25.bin (deflated 7%)\n",
            "  adding: cnn_model/group1-shard21of25.bin (deflated 7%)\n",
            "  adding: cnn_model/group1-shard7of25.bin (deflated 7%)\n"
          ],
          "name": "stdout"
        }
      ]
    },
    {
      "cell_type": "markdown",
      "metadata": {
        "id": "on_CQSbjPSZJ"
      },
      "source": [
        "After the line of code above finishes executing, click on the folder icon on the left, click the three dots to the left of ```cnn_model.zip```, and download it to your computer. Downloading might take a while! You'll be uploading this file to colab notebook 2b so that you can deploy our first CNN model!"
      ]
    }
  ]
}