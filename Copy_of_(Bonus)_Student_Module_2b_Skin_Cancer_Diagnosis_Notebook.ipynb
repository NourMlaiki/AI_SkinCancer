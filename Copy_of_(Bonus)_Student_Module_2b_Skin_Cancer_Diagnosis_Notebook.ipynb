{
  "nbformat": 4,
  "nbformat_minor": 0,
  "metadata": {
    "accelerator": "GPU",
    "colab": {
      "provenance": [],
      "collapsed_sections": [
        "LTuVjtt7pf1N"
      ],
      "include_colab_link": true
    },
    "kernelspec": {
      "display_name": "Python 3",
      "name": "python3"
    }
  },
  "cells": [
    {
      "cell_type": "markdown",
      "metadata": {
        "id": "view-in-github",
        "colab_type": "text"
      },
      "source": [
        "<a href=\"https://colab.research.google.com/github/NourMlaiki/AI_SkinCancer/blob/main/Copy_of_(Bonus)_Student_Module_2b_Skin_Cancer_Diagnosis_Notebook.ipynb\" target=\"_parent\"><img src=\"https://colab.research.google.com/assets/colab-badge.svg\" alt=\"Open In Colab\"/></a>"
      ]
    },
    {
      "cell_type": "markdown",
      "metadata": {
        "id": "TiM6gYg0nhkY"
      },
      "source": [
        "<font color=\"#de3023\"><h1><b>REMINDER MAKE A COPY OF THIS NOTEBOOK, DO NOT EDIT</b></h1></font>"
      ]
    },
    {
      "cell_type": "markdown",
      "metadata": {
        "id": "8qhF7Oi9c-v6"
      },
      "source": [
        "# Module 2b/Bonus"
      ]
    },
    {
      "cell_type": "markdown",
      "metadata": {
        "id": "JouKR3pTBF_L"
      },
      "source": [
        "# *Online Dermatologists:* 📱 🌐 Diagnosing Skin Cancer through a Web Application"
      ]
    },
    {
      "cell_type": "markdown",
      "metadata": {
        "id": "nPnF7JnsD6II"
      },
      "source": [
        "In this notebook we'll be:\n",
        "*   Deploying our ML models to a web app"
      ]
    },
    {
      "cell_type": "code",
      "metadata": {
        "id": "FTdtdJ61xSAO",
        "colab": {
          "base_uri": "https://localhost:8080/",
          "height": 1000
        },
        "outputId": "61e07114-975c-4e73-a0be-f92c2268d27a"
      },
      "source": [
        "#@title Run this to download data and prepare our environment! { display-mode: \"form\" }\n",
        "from google.colab.output import eval_js\n",
        "\n",
        "import time\n",
        "start_time = time.time()\n",
        "\n",
        "import tensorflow as tf\n",
        "\n",
        "!pip install tensorflowjs\n",
        "import tensorflowjs as tfjs\n",
        "\n",
        "from google.colab import files\n",
        "\n",
        "import requests, io, zipfile\n",
        "import os\n",
        "\n",
        "# Prepare data\n",
        "\n",
        "images_1 = os.makedirs('images_1', exist_ok=True)\n",
        "images_2= os.makedirs('images_2', exist_ok=True)\n",
        "images_all= os.makedirs('images_all', exist_ok=True)\n",
        "\n",
        "metadata_path = 'metadata.csv'\n",
        "image_path_1 = 'images_1.zip'\n",
        "image_path_2 = 'images_2.zip'\n",
        "images_rgb_path = 'hmnist_8_8_RGB.csv'\n",
        "\n",
        "!wget -O metadata.csv 'https://storage.googleapis.com/inspirit-ai-data-bucket-1/Data/AI%20Scholars/Sessions%206%20-%2010%20(Projects)/Project%20-%20(Healthcare%20B)%20Skin%20Cancer%20Diagnosis/metadata.csv'\n",
        "!wget -O images_1.zip 'https://storage.googleapis.com/inspirit-ai-data-bucket-1/Data/AI%20Scholars/Sessions%206%20-%2010%20(Projects)/Project%20-%20(Healthcare%20B)%20Skin%20Cancer%20Diagnosis/images_1.zip'\n",
        "!wget -O images_2.zip 'https://storage.googleapis.com/inspirit-ai-data-bucket-1/Data/AI%20Scholars/Sessions%206%20-%2010%20(Projects)/Project%20-%20(Healthcare%20B)%20Skin%20Cancer%20Diagnosis/images_2.zip'\n",
        "!wget -O hmnist_8_8_RGB.csv 'https://storage.googleapis.com/inspirit-ai-data-bucket-1/Data/AI%20Scholars/Sessions%206%20-%2010%20(Projects)/Project%20-%20(Healthcare%20B)%20Skin%20Cancer%20Diagnosis/hmnist_8_8_RGB.csv'\n",
        "!unzip -q -o images_1.zip -d images_1\n",
        "!unzip -q -o images_2.zip -d images_2\n",
        "\n",
        "!pip install patool\n",
        "import patoolib\n",
        "\n",
        "import os.path\n",
        "from os import path\n",
        "\n",
        "os.makedirs(\"static/js\")\n",
        "!wget -O static/js/skin_cancer_diagnosis_script.js 'https://storage.googleapis.com/inspirit-ai-data-bucket-1/Data/AI%20Scholars/Sessions%206%20-%2010%20(Projects)/Project%20-%20(Healthcare%20B)%20Skin%20Cancer%20Diagnosis/skin_cancer_diagnosis_script.js'\n",
        "output = 'static/js/skin_cancer_diagnosis_script.js'\n",
        "\n",
        "print(\"Downloaded Data\")"
      ],
      "execution_count": null,
      "outputs": [
        {
          "output_type": "stream",
          "text": [
            "Requirement already satisfied: tensorflowjs in /usr/local/lib/python3.7/dist-packages (3.8.0)\n",
            "Requirement already satisfied: tensorflow<3,>=2.1.0 in /usr/local/lib/python3.7/dist-packages (from tensorflowjs) (2.5.0)\n",
            "Requirement already satisfied: six<2,>=1.12.0 in /usr/local/lib/python3.7/dist-packages (from tensorflowjs) (1.15.0)\n",
            "Requirement already satisfied: tensorflow-hub<0.13,>=0.7.0 in /usr/local/lib/python3.7/dist-packages (from tensorflowjs) (0.12.0)\n",
            "Requirement already satisfied: typing-extensions~=3.7.4 in /usr/local/lib/python3.7/dist-packages (from tensorflow<3,>=2.1.0->tensorflowjs) (3.7.4.3)\n",
            "Requirement already satisfied: flatbuffers~=1.12.0 in /usr/local/lib/python3.7/dist-packages (from tensorflow<3,>=2.1.0->tensorflowjs) (1.12)\n",
            "Requirement already satisfied: wrapt~=1.12.1 in /usr/local/lib/python3.7/dist-packages (from tensorflow<3,>=2.1.0->tensorflowjs) (1.12.1)\n",
            "Requirement already satisfied: keras-nightly~=2.5.0.dev in /usr/local/lib/python3.7/dist-packages (from tensorflow<3,>=2.1.0->tensorflowjs) (2.5.0.dev2021032900)\n",
            "Requirement already satisfied: numpy~=1.19.2 in /usr/local/lib/python3.7/dist-packages (from tensorflow<3,>=2.1.0->tensorflowjs) (1.19.5)\n",
            "Requirement already satisfied: tensorflow-estimator<2.6.0,>=2.5.0rc0 in /usr/local/lib/python3.7/dist-packages (from tensorflow<3,>=2.1.0->tensorflowjs) (2.5.0)\n",
            "Requirement already satisfied: opt-einsum~=3.3.0 in /usr/local/lib/python3.7/dist-packages (from tensorflow<3,>=2.1.0->tensorflowjs) (3.3.0)\n",
            "Requirement already satisfied: h5py~=3.1.0 in /usr/local/lib/python3.7/dist-packages (from tensorflow<3,>=2.1.0->tensorflowjs) (3.1.0)\n",
            "Requirement already satisfied: grpcio~=1.34.0 in /usr/local/lib/python3.7/dist-packages (from tensorflow<3,>=2.1.0->tensorflowjs) (1.34.1)\n",
            "Requirement already satisfied: absl-py~=0.10 in /usr/local/lib/python3.7/dist-packages (from tensorflow<3,>=2.1.0->tensorflowjs) (0.12.0)\n",
            "Requirement already satisfied: termcolor~=1.1.0 in /usr/local/lib/python3.7/dist-packages (from tensorflow<3,>=2.1.0->tensorflowjs) (1.1.0)\n",
            "Requirement already satisfied: google-pasta~=0.2 in /usr/local/lib/python3.7/dist-packages (from tensorflow<3,>=2.1.0->tensorflowjs) (0.2.0)\n",
            "Requirement already satisfied: astunparse~=1.6.3 in /usr/local/lib/python3.7/dist-packages (from tensorflow<3,>=2.1.0->tensorflowjs) (1.6.3)\n",
            "Requirement already satisfied: gast==0.4.0 in /usr/local/lib/python3.7/dist-packages (from tensorflow<3,>=2.1.0->tensorflowjs) (0.4.0)\n",
            "Requirement already satisfied: wheel~=0.35 in /usr/local/lib/python3.7/dist-packages (from tensorflow<3,>=2.1.0->tensorflowjs) (0.37.0)\n",
            "Requirement already satisfied: protobuf>=3.9.2 in /usr/local/lib/python3.7/dist-packages (from tensorflow<3,>=2.1.0->tensorflowjs) (3.17.3)\n",
            "Requirement already satisfied: keras-preprocessing~=1.1.2 in /usr/local/lib/python3.7/dist-packages (from tensorflow<3,>=2.1.0->tensorflowjs) (1.1.2)\n",
            "Requirement already satisfied: tensorboard~=2.5 in /usr/local/lib/python3.7/dist-packages (from tensorflow<3,>=2.1.0->tensorflowjs) (2.5.0)\n",
            "Requirement already satisfied: cached-property in /usr/local/lib/python3.7/dist-packages (from h5py~=3.1.0->tensorflow<3,>=2.1.0->tensorflowjs) (1.5.2)\n",
            "Requirement already satisfied: tensorboard-data-server<0.7.0,>=0.6.0 in /usr/local/lib/python3.7/dist-packages (from tensorboard~=2.5->tensorflow<3,>=2.1.0->tensorflowjs) (0.6.1)\n",
            "Requirement already satisfied: google-auth-oauthlib<0.5,>=0.4.1 in /usr/local/lib/python3.7/dist-packages (from tensorboard~=2.5->tensorflow<3,>=2.1.0->tensorflowjs) (0.4.5)\n",
            "Requirement already satisfied: requests<3,>=2.21.0 in /usr/local/lib/python3.7/dist-packages (from tensorboard~=2.5->tensorflow<3,>=2.1.0->tensorflowjs) (2.23.0)\n",
            "Requirement already satisfied: werkzeug>=0.11.15 in /usr/local/lib/python3.7/dist-packages (from tensorboard~=2.5->tensorflow<3,>=2.1.0->tensorflowjs) (1.0.1)\n",
            "Requirement already satisfied: setuptools>=41.0.0 in /usr/local/lib/python3.7/dist-packages (from tensorboard~=2.5->tensorflow<3,>=2.1.0->tensorflowjs) (57.2.0)\n",
            "Requirement already satisfied: tensorboard-plugin-wit>=1.6.0 in /usr/local/lib/python3.7/dist-packages (from tensorboard~=2.5->tensorflow<3,>=2.1.0->tensorflowjs) (1.8.0)\n",
            "Requirement already satisfied: markdown>=2.6.8 in /usr/local/lib/python3.7/dist-packages (from tensorboard~=2.5->tensorflow<3,>=2.1.0->tensorflowjs) (3.3.4)\n",
            "Requirement already satisfied: google-auth<2,>=1.6.3 in /usr/local/lib/python3.7/dist-packages (from tensorboard~=2.5->tensorflow<3,>=2.1.0->tensorflowjs) (1.34.0)\n",
            "Requirement already satisfied: cachetools<5.0,>=2.0.0 in /usr/local/lib/python3.7/dist-packages (from google-auth<2,>=1.6.3->tensorboard~=2.5->tensorflow<3,>=2.1.0->tensorflowjs) (4.2.2)\n",
            "Requirement already satisfied: pyasn1-modules>=0.2.1 in /usr/local/lib/python3.7/dist-packages (from google-auth<2,>=1.6.3->tensorboard~=2.5->tensorflow<3,>=2.1.0->tensorflowjs) (0.2.8)\n",
            "Requirement already satisfied: rsa<5,>=3.1.4 in /usr/local/lib/python3.7/dist-packages (from google-auth<2,>=1.6.3->tensorboard~=2.5->tensorflow<3,>=2.1.0->tensorflowjs) (4.7.2)\n",
            "Requirement already satisfied: requests-oauthlib>=0.7.0 in /usr/local/lib/python3.7/dist-packages (from google-auth-oauthlib<0.5,>=0.4.1->tensorboard~=2.5->tensorflow<3,>=2.1.0->tensorflowjs) (1.3.0)\n",
            "Requirement already satisfied: importlib-metadata in /usr/local/lib/python3.7/dist-packages (from markdown>=2.6.8->tensorboard~=2.5->tensorflow<3,>=2.1.0->tensorflowjs) (4.6.3)\n",
            "Requirement already satisfied: pyasn1<0.5.0,>=0.4.6 in /usr/local/lib/python3.7/dist-packages (from pyasn1-modules>=0.2.1->google-auth<2,>=1.6.3->tensorboard~=2.5->tensorflow<3,>=2.1.0->tensorflowjs) (0.4.8)\n",
            "Requirement already satisfied: chardet<4,>=3.0.2 in /usr/local/lib/python3.7/dist-packages (from requests<3,>=2.21.0->tensorboard~=2.5->tensorflow<3,>=2.1.0->tensorflowjs) (3.0.4)\n",
            "Requirement already satisfied: idna<3,>=2.5 in /usr/local/lib/python3.7/dist-packages (from requests<3,>=2.21.0->tensorboard~=2.5->tensorflow<3,>=2.1.0->tensorflowjs) (2.10)\n",
            "Requirement already satisfied: urllib3!=1.25.0,!=1.25.1,<1.26,>=1.21.1 in /usr/local/lib/python3.7/dist-packages (from requests<3,>=2.21.0->tensorboard~=2.5->tensorflow<3,>=2.1.0->tensorflowjs) (1.24.3)\n",
            "Requirement already satisfied: certifi>=2017.4.17 in /usr/local/lib/python3.7/dist-packages (from requests<3,>=2.21.0->tensorboard~=2.5->tensorflow<3,>=2.1.0->tensorflowjs) (2021.5.30)\n",
            "Requirement already satisfied: oauthlib>=3.0.0 in /usr/local/lib/python3.7/dist-packages (from requests-oauthlib>=0.7.0->google-auth-oauthlib<0.5,>=0.4.1->tensorboard~=2.5->tensorflow<3,>=2.1.0->tensorflowjs) (3.1.1)\n",
            "Requirement already satisfied: zipp>=0.5 in /usr/local/lib/python3.7/dist-packages (from importlib-metadata->markdown>=2.6.8->tensorboard~=2.5->tensorflow<3,>=2.1.0->tensorflowjs) (3.5.0)\n",
            "--2021-08-14 23:49:41--  https://storage.googleapis.com/inspirit-ai-data-bucket-1/Data/AI%20Scholars/Sessions%206%20-%2010%20(Projects)/Project%20-%20(Healthcare%20B)%20Skin%20Cancer%20Diagnosis/metadata.csv\n",
            "Resolving storage.googleapis.com (storage.googleapis.com)... 74.125.142.128, 74.125.195.128, 74.125.197.128, ...\n",
            "Connecting to storage.googleapis.com (storage.googleapis.com)|74.125.142.128|:443... connected.\n",
            "HTTP request sent, awaiting response... 200 OK\n",
            "Length: 553377 (540K) [text/csv]\n",
            "Saving to: ‘metadata.csv’\n",
            "\n",
            "metadata.csv        100%[===================>] 540.41K  --.-KB/s    in 0.004s  \n",
            "\n",
            "2021-08-14 23:49:41 (149 MB/s) - ‘metadata.csv’ saved [553377/553377]\n",
            "\n",
            "--2021-08-14 23:49:41--  https://storage.googleapis.com/inspirit-ai-data-bucket-1/Data/AI%20Scholars/Sessions%206%20-%2010%20(Projects)/Project%20-%20(Healthcare%20B)%20Skin%20Cancer%20Diagnosis/images_1.zip\n",
            "Resolving storage.googleapis.com (storage.googleapis.com)... 142.250.99.128, 74.125.142.128, 74.125.195.128, ...\n",
            "Connecting to storage.googleapis.com (storage.googleapis.com)|142.250.99.128|:443... connected.\n",
            "HTTP request sent, awaiting response... 200 OK\n",
            "Length: 1366522108 (1.3G) [application/zip]\n",
            "Saving to: ‘images_1.zip’\n",
            "\n",
            "images_1.zip        100%[===================>]   1.27G  33.1MB/s    in 10s     \n",
            "\n",
            "2021-08-14 23:49:51 (125 MB/s) - ‘images_1.zip’ saved [1366522108/1366522108]\n",
            "\n",
            "--2021-08-14 23:49:56--  https://storage.googleapis.com/inspirit-ai-data-bucket-1/Data/AI%20Scholars/Sessions%206%20-%2010%20(Projects)/Project%20-%20(Healthcare%20B)%20Skin%20Cancer%20Diagnosis/images_2.zip\n",
            "Resolving storage.googleapis.com (storage.googleapis.com)... 74.125.142.128, 74.125.195.128, 2607:f8b0:400e:c09::80, ...\n",
            "Connecting to storage.googleapis.com (storage.googleapis.com)|74.125.142.128|:443... connected.\n",
            "HTTP request sent, awaiting response... 200 OK\n",
            "Length: 1403566547 (1.3G) [application/zip]\n",
            "Saving to: ‘images_2.zip’\n",
            "\n",
            "images_2.zip        100%[===================>]   1.31G  22.6MB/s    in 32s     \n",
            "\n",
            "2021-08-14 23:50:28 (42.0 MB/s) - ‘images_2.zip’ saved [1403566547/1403566547]\n",
            "\n",
            "--2021-08-14 23:50:28--  https://storage.googleapis.com/inspirit-ai-data-bucket-1/Data/AI%20Scholars/Sessions%206%20-%2010%20(Projects)/Project%20-%20(Healthcare%20B)%20Skin%20Cancer%20Diagnosis/hmnist_8_8_RGB.csv\n",
            "Resolving storage.googleapis.com (storage.googleapis.com)... 74.125.135.128, 74.125.142.128, 74.125.195.128, ...\n",
            "Connecting to storage.googleapis.com (storage.googleapis.com)|74.125.135.128|:443... connected.\n",
            "HTTP request sent, awaiting response... 200 OK\n",
            "Length: 7524968 (7.2M) [text/csv]\n",
            "Saving to: ‘hmnist_8_8_RGB.csv’\n",
            "\n",
            "hmnist_8_8_RGB.csv  100%[===================>]   7.18M  45.2MB/s    in 0.2s    \n",
            "\n",
            "2021-08-14 23:50:28 (45.2 MB/s) - ‘hmnist_8_8_RGB.csv’ saved [7524968/7524968]\n",
            "\n",
            "Requirement already satisfied: patool in /usr/local/lib/python3.7/dist-packages (1.12)\n"
          ],
          "name": "stdout"
        },
        {
          "output_type": "error",
          "ename": "FileExistsError",
          "evalue": "ignored",
          "traceback": [
            "\u001b[0;31m---------------------------------------------------------------------------\u001b[0m",
            "\u001b[0;31mFileExistsError\u001b[0m                           Traceback (most recent call last)",
            "\u001b[0;32m<ipython-input-4-24416e725cab>\u001b[0m in \u001b[0;36m<module>\u001b[0;34m()\u001b[0m\n\u001b[1;32m     39\u001b[0m \u001b[0;32mfrom\u001b[0m \u001b[0mos\u001b[0m \u001b[0;32mimport\u001b[0m \u001b[0mpath\u001b[0m\u001b[0;34m\u001b[0m\u001b[0;34m\u001b[0m\u001b[0m\n\u001b[1;32m     40\u001b[0m \u001b[0;34m\u001b[0m\u001b[0m\n\u001b[0;32m---> 41\u001b[0;31m \u001b[0mos\u001b[0m\u001b[0;34m.\u001b[0m\u001b[0mmakedirs\u001b[0m\u001b[0;34m(\u001b[0m\u001b[0;34m\"static/js\"\u001b[0m\u001b[0;34m)\u001b[0m\u001b[0;34m\u001b[0m\u001b[0;34m\u001b[0m\u001b[0m\n\u001b[0m\u001b[1;32m     42\u001b[0m \u001b[0mget_ipython\u001b[0m\u001b[0;34m(\u001b[0m\u001b[0;34m)\u001b[0m\u001b[0;34m.\u001b[0m\u001b[0msystem\u001b[0m\u001b[0;34m(\u001b[0m\u001b[0;34m\"wget -O static/js/skin_cancer_diagnosis_script.js 'https://storage.googleapis.com/inspirit-ai-data-bucket-1/Data/AI%20Scholars/Sessions%206%20-%2010%20(Projects)/Project%20-%20(Healthcare%20B)%20Skin%20Cancer%20Diagnosis/skin_cancer_diagnosis_script.js'\"\u001b[0m\u001b[0;34m)\u001b[0m\u001b[0;34m\u001b[0m\u001b[0;34m\u001b[0m\u001b[0m\n\u001b[1;32m     43\u001b[0m \u001b[0moutput\u001b[0m \u001b[0;34m=\u001b[0m \u001b[0;34m'static/js/skin_cancer_diagnosis_script.js'\u001b[0m\u001b[0;34m\u001b[0m\u001b[0;34m\u001b[0m\u001b[0m\n",
            "\u001b[0;32m/usr/lib/python3.7/os.py\u001b[0m in \u001b[0;36mmakedirs\u001b[0;34m(name, mode, exist_ok)\u001b[0m\n\u001b[1;32m    221\u001b[0m             \u001b[0;32mreturn\u001b[0m\u001b[0;34m\u001b[0m\u001b[0;34m\u001b[0m\u001b[0m\n\u001b[1;32m    222\u001b[0m     \u001b[0;32mtry\u001b[0m\u001b[0;34m:\u001b[0m\u001b[0;34m\u001b[0m\u001b[0;34m\u001b[0m\u001b[0m\n\u001b[0;32m--> 223\u001b[0;31m         \u001b[0mmkdir\u001b[0m\u001b[0;34m(\u001b[0m\u001b[0mname\u001b[0m\u001b[0;34m,\u001b[0m \u001b[0mmode\u001b[0m\u001b[0;34m)\u001b[0m\u001b[0;34m\u001b[0m\u001b[0;34m\u001b[0m\u001b[0m\n\u001b[0m\u001b[1;32m    224\u001b[0m     \u001b[0;32mexcept\u001b[0m \u001b[0mOSError\u001b[0m\u001b[0;34m:\u001b[0m\u001b[0;34m\u001b[0m\u001b[0;34m\u001b[0m\u001b[0m\n\u001b[1;32m    225\u001b[0m         \u001b[0;31m# Cannot rely on checking for EEXIST, since the operating system\u001b[0m\u001b[0;34m\u001b[0m\u001b[0;34m\u001b[0m\u001b[0;34m\u001b[0m\u001b[0m\n",
            "\u001b[0;31mFileExistsError\u001b[0m: [Errno 17] File exists: 'static/js'"
          ]
        }
      ]
    },
    {
      "cell_type": "markdown",
      "metadata": {
        "id": "dD_dWASuNGks"
      },
      "source": [
        "# Deploy ML to a Website"
      ]
    },
    {
      "cell_type": "markdown",
      "metadata": {
        "id": "NUfXBrCWTFV_"
      },
      "source": [
        "Now, let's start thinking about building a mobile app or web app to perform skin cancer diagnosis. Take a few moments to think about your app:\n",
        "*   Who would the users be?\n",
        "*   What would be the advantages and disadvantages of using your app vs. consulting a medical professional? Are there any risks associated with your app?\n",
        "*   What tools would you need to build your app?\n",
        "*   What would your user interface look like?\n"
      ]
    },
    {
      "cell_type": "code",
      "metadata": {
        "id": "1s-pBAs-TZ6e"
      },
      "source": [
        "# Your Response Here"
      ],
      "execution_count": null,
      "outputs": []
    },
    {
      "cell_type": "markdown",
      "metadata": {
        "id": "F8F7cEHs3057"
      },
      "source": [
        "Now, we'll use JavaScript and HTML to construct a simple website that hosts your website, which you can access from your browser. The following code segment provides the public URL from which you can access your website."
      ]
    },
    {
      "cell_type": "code",
      "metadata": {
        "id": "sz5tYqtq3IhB"
      },
      "source": [
        "print(eval_js(\"google.colab.kernel.proxyPort(8000)\"))"
      ],
      "execution_count": null,
      "outputs": []
    },
    {
      "cell_type": "markdown",
      "metadata": {
        "id": "Kfy_s9qZ3wn1"
      },
      "source": [
        "Whenever you want to host the website, run the code segment below and click on the URL above to check it out.\n",
        "\n",
        "It's important to note that the HTML and JS won't execute in the Colab code cells, but once you host the website, you can head over to the URL to check out your code in action! For debugging purposes, you can right click on the webpage, choose \"Inspect Element\", and select \"Console\" to follow your Javascript."
      ]
    },
    {
      "cell_type": "code",
      "metadata": {
        "id": "SXQM5zfi219U"
      },
      "source": [
        "!python -m http.server 8000"
      ],
      "execution_count": null,
      "outputs": []
    },
    {
      "cell_type": "markdown",
      "metadata": {
        "id": "1Tc4cyp1NbVc"
      },
      "source": [
        "Now, let's build our website. Through this website, we'll be able to run our CNN model in the browser using Tensorflow JS. As TensorflowJS doesn't yet support the version of Mobilenet we use in this notebook, we'll be using our first CNN.\n",
        "\n",
        "In this project, we'll be working with HTML, CSS, and Javascript to build our website:\n",
        "\n",
        "*   With HTML we can define and manipulate UI elements like text fields, buttons, and loading bars.\n",
        "*   With CSS, we can craft the feel of the elements and manipulate attributes of the design, such as color or animations.\n",
        "*   With Javascript (JS), we can add logic to our website and write code like we're used to.\n",
        "\n",
        "In a new tab, navigate to [this website.](https://www.w3schools.com/tryit/tryit.asp?filename=tryhtml_default) We'll be editing our HTML UI here before actually deploying our website. Copy over the code below, which we'll use as a skeleton."
      ]
    },
    {
      "cell_type": "markdown",
      "metadata": {
        "id": "WZcT2LhqbLyF"
      },
      "source": [
        "**Question:** What are some pros and cons of using web development frameworks to build a web app for skin cancer diagnosis? What would some alternatives be?"
      ]
    },
    {
      "cell_type": "code",
      "metadata": {
        "id": "oiXHZSvxbXTg"
      },
      "source": [
        "# Your Response Here"
      ],
      "execution_count": null,
      "outputs": []
    },
    {
      "cell_type": "markdown",
      "metadata": {
        "id": "vWW6zIpCpKZ1"
      },
      "source": [
        "## Basics of HTML and CSS"
      ]
    },
    {
      "cell_type": "markdown",
      "metadata": {
        "id": "T3QPsqHI8NUr"
      },
      "source": [
        "HTML elements are defined through tags(`<tag>`). An element's opening tag has no backslash, while its closing tag has one (like `</tag>`). Everything between the tags is considered to be a part of the element. In HTML we can define comments through the `<!-- -->` tag."
      ]
    },
    {
      "cell_type": "code",
      "metadata": {
        "id": "PXjTKVky7WuE",
        "colab": {
          "base_uri": "https://localhost:8080/",
          "height": 129
        },
        "outputId": "9e579daa-b9c8-4a5a-c4c1-a9e3a2b78361"
      },
      "source": [
        "<!-- HTML allows us to create UI elements we can interact with-->\n",
        "<!DOCTYPE html>\n",
        "<head>\n",
        "<title>Skin Cancer Diagnosis</title>\n",
        "<link href=\"https://fonts.googleapis.com/icon?family=Material+Icons\" rel=\"stylesheet\">\n",
        "<link href=\"https://cdnjs.cloudflare.com/ajax/libs/materialize/1.0.0/css/materialize.min.css\" rel=\"stylesheet\">\n",
        "<!--Optimize Viewport for Mobile Devices-->\n",
        "<meta name=\"viewport\" content=\"width=device-width, initial-scale=1.0\"/>\n",
        "\n",
        "</head>\n",
        "<body style=\"padding-left:5%\">\n",
        "  <nav class=\"#ffab91 deep-orange lighten-3\">\n",
        "    <div class=\"nav-wrapper\">\n",
        "      <h2><a href=\"#\" class=\"brand-logo\">Skin Cancer Diagnosis</a></h2>\n",
        "    </div>\n",
        "   </nav>\n",
        "   <div style=\"padding:5%;\">\n",
        "     <h4 id=\"loadingmodel\">Loading ML Model</h4>\n",
        "     <div id=\"progressbar\" class=\"progress\">\n",
        "    <div class=\"indeterminate\"></div>\n",
        "   </div>\n",
        "\n",
        "   </div>\n",
        "   <div class=\"file-field input-field\">\n",
        "    <div class=\"btn #b9f6ca green accent-1\">\n",
        "      <span>Select Image</span>\n",
        "      <input type=\"file\" accept=\"image/*\" onchange=\"onFileSelected(event)\">\n",
        "    </div>\n",
        "    <div class=\"file-path-wrapper\">\n",
        "      <input class=\"file-path validate\" type=\"text\">\n",
        "    </div>\n",
        "  </div>\n",
        "  <img id=\"image\" width=\"100\" height=\"75\"></img>\n",
        "  </br>\n",
        "  </br>\n",
        "  <a onclick=\"predict()\" class=\"#b9f6ca green accent-1 100 waves-effect waves-light btn\"><i class=\"left material-icons\">add_alert</i>Classify Image</a>\n",
        "  </br></br></br>\n",
        "  <h3>Prediction</h3>\n",
        "  <b><p id=\"prediction\"></p></b>\n",
        "  <p id=\"probability\"></p>\n",
        "    <script src=\"https://cdnjs.cloudflare.com/ajax/libs/materialize/1.0.0/js/materialize.min.js\"></script>\n",
        "    <script src=\"https://cdn.jsdelivr.net/npm/@tensorflow/tfjs@2.0.0/dist/tf.min.js\"></script>\n",
        "    <script src=\"static/js/skin_cancer_diagnosis_script.js\"></script>\n",
        "\n",
        "    <!-- Javascript allows us to apply logic to our UI elements and programmatically control the website -->\n",
        "    <!-- We'll be using Tensorflow JS to perform our model inference -->\n",
        "\n",
        "    <script>\n",
        "        // Initialize our HTML elements as JS objects\n",
        "        var imgtag = document.getElementById(\"image\")\n",
        "        var prediction_text = document.getElementById(\"prediction\")\n",
        "        var probability_text = document.getElementById(\"probability\")\n",
        "\n",
        "        var progressbar = document.getElementById(\"progressbar\")\n",
        "        var loadingmodel = document.getElementById(\"loadingmodel\")\n",
        "    </script>\n",
        "</body>"
      ],
      "execution_count": null,
      "outputs": [
        {
          "output_type": "error",
          "ename": "SyntaxError",
          "evalue": "ignored",
          "traceback": [
            "\u001b[0;36m  File \u001b[0;32m\"<ipython-input-1-62b78f59f9dc>\"\u001b[0;36m, line \u001b[0;32m1\u001b[0m\n\u001b[0;31m    <!-- HTML allows us to create UI elements we can interact with-->\u001b[0m\n\u001b[0m    ^\u001b[0m\n\u001b[0;31mSyntaxError\u001b[0m\u001b[0;31m:\u001b[0m invalid syntax\n"
          ]
        }
      ]
    },
    {
      "cell_type": "markdown",
      "metadata": {
        "id": "hvtk5mkQ8rb0"
      },
      "source": [
        "Copy the following lines into the space between the head tags. The link tag allows us to import CSS libraries. In this case, we'll be using the Materialize library, which mimics Google's Material Design design language. The line with the `<meta>` tag tells our browser that our website is optimized for mobile devices."
      ]
    },
    {
      "cell_type": "code",
      "metadata": {
        "id": "T5voc4V57_Ma"
      },
      "source": [
        "<!-- CSS helps us design the feel and style of the UI. In this example, we're using Google's Material Design-->\n",
        "\n",
        "<!-- Import Google Icon Font -->\n",
        "<link href=\"https://fonts.googleapis.com/icon?family=Material+Icons\" rel=\"stylesheet\">\n",
        "<link href=\"https://cdnjs.cloudflare.com/ajax/libs/materialize/1.0.0/css/materialize.min.css\" rel=\"stylesheet\">\n",
        "<!--Optimize Viewport for Mobile Devices-->\n",
        "<meta name=\"viewport\" content=\"width=device-width, initial-scale=1.0\"/>"
      ],
      "execution_count": null,
      "outputs": []
    },
    {
      "cell_type": "markdown",
      "metadata": {
        "id": "dyerrMOMGAXX"
      },
      "source": [
        "We'll also need to import a CSS stylesheet for Materialize from [this](https://cdnjs.cloudflare.com/ajax/libs/materialize/1.0.0/css/materialize.min.css) link. Can you figure out how to import a stylesheet?"
      ]
    },
    {
      "cell_type": "code",
      "metadata": {
        "id": "DLSOJ4izGH6V"
      },
      "source": [
        "# Your Code Here"
      ],
      "execution_count": null,
      "outputs": []
    },
    {
      "cell_type": "markdown",
      "metadata": {
        "id": "sx160b6tYp2x"
      },
      "source": [
        "You can look into other design languages to see which ones you like!"
      ]
    },
    {
      "cell_type": "code",
      "metadata": {
        "id": "oxAvSxdcYwo1"
      },
      "source": [
        "# Your Response Here"
      ],
      "execution_count": null,
      "outputs": []
    },
    {
      "cell_type": "markdown",
      "metadata": {
        "id": "LJ6QCe8GpV5d"
      },
      "source": [
        "## UI Elements"
      ]
    },
    {
      "cell_type": "markdown",
      "metadata": {
        "id": "w1eH0_ty9Bxh"
      },
      "source": [
        "Now, we'll define some other UI elements. The following elements will be placed in the `body` element. The nav tag specifies a title bar. In the nav tag, you can also select your color by specifying it in the class attribute. [Here](https://materializecss.com/color.html) is a list of materialize colors. The div tag just specifies a section of HTML that can be extensively customized. For example, here the div tag is an element of the Title Bar. In a later example, div tags will be components of loading bars and file input buttons."
      ]
    },
    {
      "cell_type": "code",
      "metadata": {
        "id": "Rn_FG9ZV9Jke"
      },
      "source": [
        "<!-- Title Bar -->\n",
        "<nav class=\"#ffab91 deep-orange lighten-3\">\n",
        "    <div class=\"nav-wrapper\">\n",
        "      <h2><a href=\"#\" class=\"brand-logo\">Skin Cancer Diagnosis</a></h2>\n",
        "    </div>\n",
        "</nav>"
      ],
      "execution_count": null,
      "outputs": []
    },
    {
      "cell_type": "markdown",
      "metadata": {
        "id": "0OI1IuQ2-3-j"
      },
      "source": [
        "The following tag specifies a type of UI element container. Every HTML element in a `<div>` tag will experience the properties of the `<div>` tag. For example, this div has a padding of 5%, meaning that all elements inside of it, will have a 5% gap between the borders of the window."
      ]
    },
    {
      "cell_type": "code",
      "metadata": {
        "id": "_fcHWiLL--Jz"
      },
      "source": [
        "<!-- Container for all other HTML Elements -->\n",
        "<div style=\"padding:5%;\">\n",
        "\n",
        "</div>"
      ],
      "execution_count": null,
      "outputs": []
    },
    {
      "cell_type": "markdown",
      "metadata": {
        "id": "HqMKIT8O_XvS"
      },
      "source": [
        "The following HTML represents a loading bar. This loading bar will stop progressing once we load our model."
      ]
    },
    {
      "cell_type": "code",
      "metadata": {
        "id": "qGbA4nU9_e1s"
      },
      "source": [
        "<!-- Loading Bar -->\n",
        "<h4 id=\"loadingmodel\">Loading ML Model</h4>\n",
        "<div id=\"progressbar\" class=\"progress\">\n",
        "    <div class=\"indeterminate\"></div>\n",
        "</div>"
      ],
      "execution_count": null,
      "outputs": []
    },
    {
      "cell_type": "markdown",
      "metadata": {
        "id": "pp-XdUo3_koh"
      },
      "source": [
        "The following HTML represents a file input button. We will be using this to read images to classify. You can also set your color here."
      ]
    },
    {
      "cell_type": "code",
      "metadata": {
        "id": "cKouac4P_vAq"
      },
      "source": [
        "<!-- Image File Input -->\n",
        "<div class=\"file-field input-field\">\n",
        "    <div class=\"btn #b9f6ca green accent-1\">\n",
        "      <span>Select Image</span>\n",
        "      <input type=\"file\" accept=\"image/*\" onchange=\"onFileSelected(event)\">\n",
        "    </div>\n",
        "    <div class=\"file-path-wrapper\">\n",
        "      <input class=\"file-path validate\" type=\"text\">\n",
        "    </div>\n",
        "  </div>"
      ],
      "execution_count": null,
      "outputs": []
    },
    {
      "cell_type": "markdown",
      "metadata": {
        "id": "X4alNKXL_-1E"
      },
      "source": [
        "The following HTML represents an image. We will be using this to display the image that the user inputs."
      ]
    },
    {
      "cell_type": "code",
      "metadata": {
        "id": "2GpSoOgf_9h5"
      },
      "source": [
        "<!-- Image to be Classified -->\n",
        "<img id=\"image\"></img>"
      ],
      "execution_count": null,
      "outputs": []
    },
    {
      "cell_type": "markdown",
      "metadata": {
        "id": "RJ15rEWfFbjL"
      },
      "source": [
        "Now add width and height attributes to the `<img>` tag that correspond to the width and height of our images."
      ]
    },
    {
      "cell_type": "code",
      "metadata": {
        "id": "7wOC3lzLFlrq"
      },
      "source": [
        "# Your Code Here"
      ],
      "execution_count": null,
      "outputs": []
    },
    {
      "cell_type": "markdown",
      "metadata": {
        "id": "sOyYtHVeAJv9"
      },
      "source": [
        "The following HTML represents the creation of new lines. This is just for formatting."
      ]
    },
    {
      "cell_type": "code",
      "metadata": {
        "id": "sGX9qySmAHgh"
      },
      "source": [
        "<!-- Add New Lines -->\n",
        "<br/>\n",
        "<br/>"
      ],
      "execution_count": null,
      "outputs": []
    },
    {
      "cell_type": "markdown",
      "metadata": {
        "id": "Xk_ueLDwAr4q"
      },
      "source": [
        "The following HTML represents the button we'll use to trigger the image classification. You can also select a button color here. The options for button size are `btn-small` or `btn-large`.  "
      ]
    },
    {
      "cell_type": "code",
      "metadata": {
        "id": "vHBP5YdHAiBi"
      },
      "source": [
        "<!-- Button to Perform Classification -->\n",
        "<a onclick=\"predict()\" class=\"{Enter Your Color Here} {Enter Your Button Size Here} waves-effect waves-light btn\">Classify Image</a>"
      ],
      "execution_count": null,
      "outputs": []
    },
    {
      "cell_type": "markdown",
      "metadata": {
        "id": "tx9_ULmMbp0d"
      },
      "source": [
        "You can also add an icon to the button. You can find a list of icons at [this](https://materializecss.com/icons.html) link. By adding an icon tag `<i class=\"left material-icons\">add</i>` to the inside of a button's tag, the icon should display alognside the button text. An example is in the line below."
      ]
    },
    {
      "cell_type": "code",
      "metadata": {
        "id": "AULp5kelcVar"
      },
      "source": [
        "<!-- Button to Perform Classification -->\n",
        "<a onclick=\"predict()\" class=\"{Enter Your Color Here} {Enter Your Button Size Here} waves-effect waves-light btn\"><i class=\"left material-icons\">add_alert</i>Classify Image</a>"
      ],
      "execution_count": null,
      "outputs": []
    },
    {
      "cell_type": "markdown",
      "metadata": {
        "id": "x8kRcKY-A33x"
      },
      "source": [
        "The following HTML represents the text we'll use to display the probability and prediction of our image classification model."
      ]
    },
    {
      "cell_type": "code",
      "metadata": {
        "id": "XgbL_vHBAqvi"
      },
      "source": [
        "<!-- Text Fields for the Prediction -->\n",
        "<h3>Prediction</h3>\n",
        "<b><p id=\"prediction\"></p></b>"
      ],
      "execution_count": null,
      "outputs": []
    },
    {
      "cell_type": "markdown",
      "metadata": {
        "id": "WAXmrfiTE6Nz"
      },
      "source": [
        "Now, add a `<p>` tag for the classification's probability as well."
      ]
    },
    {
      "cell_type": "code",
      "metadata": {
        "id": "FPNsVP73E4e0"
      },
      "source": [
        "# Your Code Here"
      ],
      "execution_count": null,
      "outputs": []
    },
    {
      "cell_type": "markdown",
      "metadata": {
        "id": "Z3ZLCmHKpaLV"
      },
      "source": [
        "## Writing your Web App"
      ]
    },
    {
      "cell_type": "markdown",
      "metadata": {
        "id": "O03RJCoHU6ZV"
      },
      "source": [
        "Now go ahead and place these elements however you would like in your website! Feel free to customize your UI to bring a personal touch to your web app!\n",
        "\n",
        "Some other handy Materialize Helper classes can be found [here](https://materializecss.com/helpers.html).\n",
        "\n",
        "Once you finish writing your code, paste it into the code cell below and run the cell, to save your HTML/CSS/JS to Colab."
      ]
    },
    {
      "cell_type": "code",
      "metadata": {
        "id": "O7WYxqmIU6Id"
      },
      "source": [
        "%%writefile index.html\n",
        "<!-- Demo: https://rganesh22.github.io/htmlmockups/tensorflowjs.html -->\n",
        "<!-- HTML allows us to create UI elements we can interact with-->\n",
        "\n",
        "<head>\n",
        "    <!-- CSS helps us design the feel and style of the UI. In this example, we're using Google's Material Design-->\n",
        "    <!-- Your CSS Libraries -->\n",
        "</head>\n",
        "<body>\n",
        "    <!-- Your HTML UI Elements -->\n",
        "\n",
        "    <!-- Import JS Libraries -->\n",
        "    <script src=\"https://cdnjs.cloudflare.com/ajax/libs/materialize/1.0.0/js/materialize.min.js\"></script>\n",
        "    <script src=\"https://cdn.jsdelivr.net/npm/@tensorflow/tfjs@2.0.0/dist/tf.min.js\"></script>\n",
        "    <script src=\"static/js/skin_cancer_diagnosis_script.js\"></script>\n",
        "\n",
        "    <!-- Javascript allows us to apply logic to our UI elements and programmatically control the website -->\n",
        "    <!-- We'll be using Tensorflow JS to perform our model inference -->\n",
        "\n",
        "    <script>\n",
        "        // Initialize our HTML elements as JS objects\n",
        "\n",
        "    var imgtag = document.getElementById(\"image\")\n",
        "    var prediction_text = document.getElementById(\"prediction\")\n",
        "    var probability_text = document.getElementById(\"probability\")\n",
        "\n",
        "    var progressbar = document.getElementById(\"progressbar\")\n",
        "    var loadingmodel = document.getElementById(\"loadingmodel\")\n",
        "    </script>\n",
        "</body>"
      ],
      "execution_count": null,
      "outputs": []
    },
    {
      "cell_type": "markdown",
      "metadata": {
        "id": "LTuVjtt7pf1N"
      },
      "source": [
        "## Writing JavaScript (JS)"
      ]
    },
    {
      "cell_type": "markdown",
      "metadata": {
        "id": "_C21szISBWES"
      },
      "source": [
        "The script tag specifies the location to import javascript libraries from. In this case, we're importing Tensoflow  JS for ML and the Materialize JS library. Place this in the body, but after the div our elements are placed in."
      ]
    },
    {
      "cell_type": "code",
      "metadata": {
        "id": "aeLb6XPrBTUb"
      },
      "source": [
        "<!-- Import JS Libraries -->\n",
        "<script src=\"https://cdnjs.cloudflare.com/ajax/libs/materialize/1.0.0/js/materialize.min.js\"></script>\n",
        "<script src=\"https://cdn.jsdelivr.net/npm/@tensorflow/tfjs@2.0.0/dist/tf.min.js\"></script>"
      ],
      "execution_count": null,
      "outputs": []
    },
    {
      "cell_type": "markdown",
      "metadata": {
        "id": "9R-iVsZnDPVj"
      },
      "source": [
        "Now define a script element. This is where we will be able to write our Javascript. Add this element below our JS imports."
      ]
    },
    {
      "cell_type": "code",
      "metadata": {
        "id": "RzA0TdhTDZ8g"
      },
      "source": [
        "<!-- Javascript allows us to apply logic to our UI elements and programmatically control the website -->\n",
        "<!-- We'll be using Tensorflow JS to perform our model inference -->\n",
        "<script>\n",
        "\n",
        "</script>"
      ],
      "execution_count": null,
      "outputs": []
    },
    {
      "cell_type": "markdown",
      "metadata": {
        "id": "eVqOOPVHVV9o"
      },
      "source": [
        "Now how might we reference all of these HTML elements in Javascript? Are there any attributes of these elements you notice that may help us out?"
      ]
    },
    {
      "cell_type": "code",
      "metadata": {
        "id": "992C96u8VeIs"
      },
      "source": [
        "# Your Response Here"
      ],
      "execution_count": null,
      "outputs": []
    },
    {
      "cell_type": "markdown",
      "metadata": {
        "id": "dGdwcr12Dvfp"
      },
      "source": [
        "First, we need to initialize our HTML elements in JS so that we can reference them through variables. The following line references each HTML element by its specified ID and creates its respective variable in JS. In JS, we have to declare variables with the `var` identifier, unlike Python. Additionally, in Javascript we declare comments with `//` as opposed to `#`. An example is below."
      ]
    },
    {
      "cell_type": "code",
      "metadata": {
        "id": "Du99qd56DtVY"
      },
      "source": [
        "// Initialize our HTML elements as JS objects\n",
        "var imgtag = document.getElementById(\"image\")"
      ],
      "execution_count": null,
      "outputs": []
    },
    {
      "cell_type": "markdown",
      "metadata": {
        "id": "pXeaYE0eHGcj"
      },
      "source": [
        "Now initalize all of our other HTML elements that have a specified ID. Ensure that that the variable names below stay the same, but the ID passed is specific to your code."
      ]
    },
    {
      "cell_type": "code",
      "metadata": {
        "id": "pUtMtImT8Kbe"
      },
      "source": [
        "<script>\n",
        "\n",
        "    // Initialize our HTML elements as JS objects\n",
        "\n",
        "    var imgtag = document.getElementById(\"{YOUR INPUT <img> TAG}\")\n",
        "    var prediction_text = document.getElementById(\"{YOUR PREDICTION <p> TAG}\")\n",
        "    var probability_text = document.getElementById(\"{YOUR PROBABILITY <p> TAG}\")\n",
        "\n",
        "    var progressbar = document.getElementById(\"{YOUR PROGRESS BAR <div> TAG}\")\n",
        "    var loadingmodel = document.getElementById(\"{YOUR PROGRESS BAR TEXT <h4> TAG}\")\n",
        "\n",
        "</script>"
      ],
      "execution_count": null,
      "outputs": []
    },
    {
      "cell_type": "markdown",
      "metadata": {
        "id": "1QYxXlj86NP0"
      },
      "source": [
        "Great job! Now you should be able to view your website!\n",
        "\n",
        "**Some questions to consider:**\n",
        "*   Given what you know about your model, what's the best-case scenario from someone using your web app? What's the worst case?\n",
        "*   What legal and ethical challenges might you need to consider in deploying your web app?\n",
        "*   How could systems like this be used to support medical professionals rather than replacing them?"
      ]
    },
    {
      "cell_type": "markdown",
      "metadata": {
        "id": "NZJpgy2MonN2"
      },
      "source": [
        "## Optional Exploration and Next Steps"
      ]
    },
    {
      "cell_type": "markdown",
      "metadata": {
        "id": "BwkOaeAo-S7w"
      },
      "source": [
        "We've also included a script that runs your `tensorflow.js` model on the input image and returns the prediction to the webpage. If you're interested in viewing this code (written in JS), you can view the file at the path `static/js/skin_cancer_diagnosis_script.js` in the Colab filesystem.\n",
        "\n",
        "Upload the ```cnn_mode.zip``` file you downloaded in module 2b and run the following line of code:\n",
        "\n"
      ]
    },
    {
      "cell_type": "code",
      "metadata": {
        "id": "ZVsCDbCo4ChU"
      },
      "source": [
        "!unzip -q -o cnn_model.zip -d cnn_model"
      ],
      "execution_count": null,
      "outputs": []
    },
    {
      "cell_type": "markdown",
      "metadata": {
        "id": "7WcBtxng3_gB"
      },
      "source": [
        "**Challenge:** If you have taken a look at the JS script, consider by which method the image is sent from the front-end to the back-end. Are there alternate methods to do this? Look into cloud services like Google Cloud or the REST API for more ideas.\n",
        "\n",
        "Additionally, what UI elements do we use to read the user's data and return a diagnosis? Are there any alternative methods of going about constructing this interface? Take a look at the Materialize documentation to see what UI elements you can use. You may need to edit the script as well, depending on how you've created your UI.\n",
        "\n",
        "Some possible overall next steps with the web app:\n",
        "*   Add text fields to read the user's name and return a personalized message upon diagnosis\n",
        "*   Use checkboxes and other UI elements to create a \"terms of service\" message and only allow users who accept it to be diagnosed\n",
        "*   Use a different CSS library to change the design of the web app\n",
        "*   Look into reading from and storing images in the cloud through tools like Firebase\n",
        "*   Package this source code using tools like Cordova to create a mobile app!"
      ]
    },
    {
      "cell_type": "markdown",
      "metadata": {
        "id": "hPYmfLw2OaZQ"
      },
      "source": [
        "# Hosting Websites for Longer Periods of Time"
      ]
    },
    {
      "cell_type": "markdown",
      "metadata": {
        "id": "O1lFDMHtPs_j"
      },
      "source": [
        "If you would like to host the website perpetually, you will have to use a web hosting service. There are multiple ways to go about doing this. You can use a service like Github Pages, Amazon Web Services, or the Google Cloud. An alternative option is to use Node.js with frameworks such as Electron or Cordova, to deploy our website as a native application on Windows, Mac, Linux, Android, or iOS."
      ]
    },
    {
      "cell_type": "markdown",
      "metadata": {
        "id": "MlGW5FIvQiBD"
      },
      "source": [
        "If you're using Github Pages, you can initialize a repository and navigate to the setings page. There, you can set up your Github Pages settings and host your website online. Your website is accessible to anyone on the Internet, and you wouldn't need to work with any Colab notebooks!"
      ]
    }
  ]
}